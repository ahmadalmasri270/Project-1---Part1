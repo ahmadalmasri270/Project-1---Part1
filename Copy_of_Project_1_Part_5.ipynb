{
  "nbformat": 4,
  "nbformat_minor": 0,
  "metadata": {
    "colab": {
      "provenance": [],
      "authorship_tag": "ABX9TyMBO+VPo+NSFg71Je5DEAUk",
      "include_colab_link": true
    },
    "kernelspec": {
      "name": "python3",
      "display_name": "Python 3"
    },
    "language_info": {
      "name": "python"
    }
  },
  "cells": [
    {
      "cell_type": "markdown",
      "metadata": {
        "id": "view-in-github",
        "colab_type": "text"
      },
      "source": [
        "<a href=\"https://colab.research.google.com/github/ahmadalmasri270/sales-predictions/blob/main/Copy_of_Project_1_Part_5.ipynb\" target=\"_parent\"><img src=\"https://colab.research.google.com/assets/colab-badge.svg\" alt=\"Open In Colab\"/></a>"
      ]
    },
    {
      "cell_type": "markdown",
      "source": [
        "#Project 1 - Part 5 (Core)"
      ],
      "metadata": {
        "id": "13rFWB9kLq5F"
      }
    },
    {
      "cell_type": "markdown",
      "source": [
        "#Assignment:\n",
        "\n",
        "1.   Before splitting your data, you can drop duplicates and fix inconsistencies in categorical data.* (*There is a way to do this after the split, but for this project, you may perform this step before the split)\n",
        "2.   Identify the features (X) and target (y): Assign the \"Item_Outlet_Sales\" column as your target and the rest of the relevant variables as your features matrix.\n",
        "3. Perform a train test split\n",
        "4. Create a preprocessing object to prepare the dataset for Machine Learning\n",
        "5. Make sure your imputation of missing values occurs after the train test split using SimpleImputer.\n",
        "\n",
        "\n"
      ],
      "metadata": {
        "id": "I_JYjuT3Lu0T"
      }
    },
    {
      "cell_type": "markdown",
      "source": [
        "##1.Mount the drive"
      ],
      "metadata": {
        "id": "dSKUYIq-Mw84"
      }
    },
    {
      "cell_type": "code",
      "execution_count": 3,
      "metadata": {
        "colab": {
          "base_uri": "https://localhost:8080/"
        },
        "id": "2q-6QaO6Ljrq",
        "outputId": "7ea9e6b2-3c8c-4f02-cbc5-443b26f6749e"
      },
      "outputs": [
        {
          "output_type": "stream",
          "name": "stdout",
          "text": [
            "Mounted at /content/drive\n"
          ]
        }
      ],
      "source": [
        "from google.colab import drive\n",
        "drive.mount('/content/drive')"
      ]
    },
    {
      "cell_type": "markdown",
      "source": [
        "#2.Import all the Necessary Libraries."
      ],
      "metadata": {
        "id": "NpxQpMsINN11"
      }
    },
    {
      "cell_type": "code",
      "source": [
        "# imports\n",
        "import pandas as pd\n",
        "import numpy as np\n",
        "from sklearn.preprocessing import StandardScaler, OneHotEncoder,  \\\n",
        "OrdinalEncoder\n",
        "from sklearn.impute import SimpleImputer\n",
        "from sklearn.compose import make_column_transformer, make_column_selector\n",
        "from sklearn.pipeline import make_pipeline\n",
        "from sklearn.model_selection import train_test_split\n",
        "from sklearn import set_config\n",
        "set_config(display='diagram')"
      ],
      "metadata": {
        "id": "sodFPT4TNSsS"
      },
      "execution_count": 4,
      "outputs": []
    },
    {
      "cell_type": "markdown",
      "source": [
        "#3.Load the Data."
      ],
      "metadata": {
        "id": "PMvzsWasNXlU"
      }
    },
    {
      "cell_type": "code",
      "source": [
        "df = pd.read_csv('/content/drive/MyDrive/Coding Dojo/sales_predictions.csv')\n",
        "df.head()"
      ],
      "metadata": {
        "colab": {
          "base_uri": "https://localhost:8080/",
          "height": 357
        },
        "id": "6Ywuf0rcNWuG",
        "outputId": "ea8b98f2-1630-4fe0-c34d-3527d09877df"
      },
      "execution_count": 5,
      "outputs": [
        {
          "output_type": "execute_result",
          "data": {
            "text/plain": [
              "  Item_Identifier  Item_Weight Item_Fat_Content  Item_Visibility  \\\n",
              "0           FDA15         9.30          Low Fat         0.016047   \n",
              "1           DRC01         5.92          Regular         0.019278   \n",
              "2           FDN15        17.50          Low Fat         0.016760   \n",
              "3           FDX07        19.20          Regular         0.000000   \n",
              "4           NCD19         8.93          Low Fat         0.000000   \n",
              "\n",
              "               Item_Type  Item_MRP Outlet_Identifier  \\\n",
              "0                  Dairy  249.8092            OUT049   \n",
              "1            Soft Drinks   48.2692            OUT018   \n",
              "2                   Meat  141.6180            OUT049   \n",
              "3  Fruits and Vegetables  182.0950            OUT010   \n",
              "4              Household   53.8614            OUT013   \n",
              "\n",
              "   Outlet_Establishment_Year Outlet_Size Outlet_Location_Type  \\\n",
              "0                       1999      Medium               Tier 1   \n",
              "1                       2009      Medium               Tier 3   \n",
              "2                       1999      Medium               Tier 1   \n",
              "3                       1998         NaN               Tier 3   \n",
              "4                       1987        High               Tier 3   \n",
              "\n",
              "         Outlet_Type  Item_Outlet_Sales  \n",
              "0  Supermarket Type1          3735.1380  \n",
              "1  Supermarket Type2           443.4228  \n",
              "2  Supermarket Type1          2097.2700  \n",
              "3      Grocery Store           732.3800  \n",
              "4  Supermarket Type1           994.7052  "
            ],
            "text/html": [
              "\n",
              "  <div id=\"df-c2ebcb56-fd8d-4231-9004-f5409f5565d8\">\n",
              "    <div class=\"colab-df-container\">\n",
              "      <div>\n",
              "<style scoped>\n",
              "    .dataframe tbody tr th:only-of-type {\n",
              "        vertical-align: middle;\n",
              "    }\n",
              "\n",
              "    .dataframe tbody tr th {\n",
              "        vertical-align: top;\n",
              "    }\n",
              "\n",
              "    .dataframe thead th {\n",
              "        text-align: right;\n",
              "    }\n",
              "</style>\n",
              "<table border=\"1\" class=\"dataframe\">\n",
              "  <thead>\n",
              "    <tr style=\"text-align: right;\">\n",
              "      <th></th>\n",
              "      <th>Item_Identifier</th>\n",
              "      <th>Item_Weight</th>\n",
              "      <th>Item_Fat_Content</th>\n",
              "      <th>Item_Visibility</th>\n",
              "      <th>Item_Type</th>\n",
              "      <th>Item_MRP</th>\n",
              "      <th>Outlet_Identifier</th>\n",
              "      <th>Outlet_Establishment_Year</th>\n",
              "      <th>Outlet_Size</th>\n",
              "      <th>Outlet_Location_Type</th>\n",
              "      <th>Outlet_Type</th>\n",
              "      <th>Item_Outlet_Sales</th>\n",
              "    </tr>\n",
              "  </thead>\n",
              "  <tbody>\n",
              "    <tr>\n",
              "      <th>0</th>\n",
              "      <td>FDA15</td>\n",
              "      <td>9.30</td>\n",
              "      <td>Low Fat</td>\n",
              "      <td>0.016047</td>\n",
              "      <td>Dairy</td>\n",
              "      <td>249.8092</td>\n",
              "      <td>OUT049</td>\n",
              "      <td>1999</td>\n",
              "      <td>Medium</td>\n",
              "      <td>Tier 1</td>\n",
              "      <td>Supermarket Type1</td>\n",
              "      <td>3735.1380</td>\n",
              "    </tr>\n",
              "    <tr>\n",
              "      <th>1</th>\n",
              "      <td>DRC01</td>\n",
              "      <td>5.92</td>\n",
              "      <td>Regular</td>\n",
              "      <td>0.019278</td>\n",
              "      <td>Soft Drinks</td>\n",
              "      <td>48.2692</td>\n",
              "      <td>OUT018</td>\n",
              "      <td>2009</td>\n",
              "      <td>Medium</td>\n",
              "      <td>Tier 3</td>\n",
              "      <td>Supermarket Type2</td>\n",
              "      <td>443.4228</td>\n",
              "    </tr>\n",
              "    <tr>\n",
              "      <th>2</th>\n",
              "      <td>FDN15</td>\n",
              "      <td>17.50</td>\n",
              "      <td>Low Fat</td>\n",
              "      <td>0.016760</td>\n",
              "      <td>Meat</td>\n",
              "      <td>141.6180</td>\n",
              "      <td>OUT049</td>\n",
              "      <td>1999</td>\n",
              "      <td>Medium</td>\n",
              "      <td>Tier 1</td>\n",
              "      <td>Supermarket Type1</td>\n",
              "      <td>2097.2700</td>\n",
              "    </tr>\n",
              "    <tr>\n",
              "      <th>3</th>\n",
              "      <td>FDX07</td>\n",
              "      <td>19.20</td>\n",
              "      <td>Regular</td>\n",
              "      <td>0.000000</td>\n",
              "      <td>Fruits and Vegetables</td>\n",
              "      <td>182.0950</td>\n",
              "      <td>OUT010</td>\n",
              "      <td>1998</td>\n",
              "      <td>NaN</td>\n",
              "      <td>Tier 3</td>\n",
              "      <td>Grocery Store</td>\n",
              "      <td>732.3800</td>\n",
              "    </tr>\n",
              "    <tr>\n",
              "      <th>4</th>\n",
              "      <td>NCD19</td>\n",
              "      <td>8.93</td>\n",
              "      <td>Low Fat</td>\n",
              "      <td>0.000000</td>\n",
              "      <td>Household</td>\n",
              "      <td>53.8614</td>\n",
              "      <td>OUT013</td>\n",
              "      <td>1987</td>\n",
              "      <td>High</td>\n",
              "      <td>Tier 3</td>\n",
              "      <td>Supermarket Type1</td>\n",
              "      <td>994.7052</td>\n",
              "    </tr>\n",
              "  </tbody>\n",
              "</table>\n",
              "</div>\n",
              "      <button class=\"colab-df-convert\" onclick=\"convertToInteractive('df-c2ebcb56-fd8d-4231-9004-f5409f5565d8')\"\n",
              "              title=\"Convert this dataframe to an interactive table.\"\n",
              "              style=\"display:none;\">\n",
              "        \n",
              "  <svg xmlns=\"http://www.w3.org/2000/svg\" height=\"24px\"viewBox=\"0 0 24 24\"\n",
              "       width=\"24px\">\n",
              "    <path d=\"M0 0h24v24H0V0z\" fill=\"none\"/>\n",
              "    <path d=\"M18.56 5.44l.94 2.06.94-2.06 2.06-.94-2.06-.94-.94-2.06-.94 2.06-2.06.94zm-11 1L8.5 8.5l.94-2.06 2.06-.94-2.06-.94L8.5 2.5l-.94 2.06-2.06.94zm10 10l.94 2.06.94-2.06 2.06-.94-2.06-.94-.94-2.06-.94 2.06-2.06.94z\"/><path d=\"M17.41 7.96l-1.37-1.37c-.4-.4-.92-.59-1.43-.59-.52 0-1.04.2-1.43.59L10.3 9.45l-7.72 7.72c-.78.78-.78 2.05 0 2.83L4 21.41c.39.39.9.59 1.41.59.51 0 1.02-.2 1.41-.59l7.78-7.78 2.81-2.81c.8-.78.8-2.07 0-2.86zM5.41 20L4 18.59l7.72-7.72 1.47 1.35L5.41 20z\"/>\n",
              "  </svg>\n",
              "      </button>\n",
              "      \n",
              "  <style>\n",
              "    .colab-df-container {\n",
              "      display:flex;\n",
              "      flex-wrap:wrap;\n",
              "      gap: 12px;\n",
              "    }\n",
              "\n",
              "    .colab-df-convert {\n",
              "      background-color: #E8F0FE;\n",
              "      border: none;\n",
              "      border-radius: 50%;\n",
              "      cursor: pointer;\n",
              "      display: none;\n",
              "      fill: #1967D2;\n",
              "      height: 32px;\n",
              "      padding: 0 0 0 0;\n",
              "      width: 32px;\n",
              "    }\n",
              "\n",
              "    .colab-df-convert:hover {\n",
              "      background-color: #E2EBFA;\n",
              "      box-shadow: 0px 1px 2px rgba(60, 64, 67, 0.3), 0px 1px 3px 1px rgba(60, 64, 67, 0.15);\n",
              "      fill: #174EA6;\n",
              "    }\n",
              "\n",
              "    [theme=dark] .colab-df-convert {\n",
              "      background-color: #3B4455;\n",
              "      fill: #D2E3FC;\n",
              "    }\n",
              "\n",
              "    [theme=dark] .colab-df-convert:hover {\n",
              "      background-color: #434B5C;\n",
              "      box-shadow: 0px 1px 3px 1px rgba(0, 0, 0, 0.15);\n",
              "      filter: drop-shadow(0px 1px 2px rgba(0, 0, 0, 0.3));\n",
              "      fill: #FFFFFF;\n",
              "    }\n",
              "  </style>\n",
              "\n",
              "      <script>\n",
              "        const buttonEl =\n",
              "          document.querySelector('#df-c2ebcb56-fd8d-4231-9004-f5409f5565d8 button.colab-df-convert');\n",
              "        buttonEl.style.display =\n",
              "          google.colab.kernel.accessAllowed ? 'block' : 'none';\n",
              "\n",
              "        async function convertToInteractive(key) {\n",
              "          const element = document.querySelector('#df-c2ebcb56-fd8d-4231-9004-f5409f5565d8');\n",
              "          const dataTable =\n",
              "            await google.colab.kernel.invokeFunction('convertToInteractive',\n",
              "                                                     [key], {});\n",
              "          if (!dataTable) return;\n",
              "\n",
              "          const docLinkHtml = 'Like what you see? Visit the ' +\n",
              "            '<a target=\"_blank\" href=https://colab.research.google.com/notebooks/data_table.ipynb>data table notebook</a>'\n",
              "            + ' to learn more about interactive tables.';\n",
              "          element.innerHTML = '';\n",
              "          dataTable['output_type'] = 'display_data';\n",
              "          await google.colab.output.renderOutput(dataTable, element);\n",
              "          const docLink = document.createElement('div');\n",
              "          docLink.innerHTML = docLinkHtml;\n",
              "          element.appendChild(docLink);\n",
              "        }\n",
              "      </script>\n",
              "    </div>\n",
              "  </div>\n",
              "  "
            ]
          },
          "metadata": {},
          "execution_count": 5
        }
      ]
    },
    {
      "cell_type": "markdown",
      "source": [
        "#4.Explore the Data."
      ],
      "metadata": {
        "id": "xExw_H7dN8z0"
      }
    },
    {
      "cell_type": "code",
      "source": [
        "df.info()"
      ],
      "metadata": {
        "colab": {
          "base_uri": "https://localhost:8080/"
        },
        "id": "pzG2Kn56QXwv",
        "outputId": "0ab22940-bdc2-456c-916e-d691260e843c"
      },
      "execution_count": 6,
      "outputs": [
        {
          "output_type": "stream",
          "name": "stdout",
          "text": [
            "<class 'pandas.core.frame.DataFrame'>\n",
            "RangeIndex: 8523 entries, 0 to 8522\n",
            "Data columns (total 12 columns):\n",
            " #   Column                     Non-Null Count  Dtype  \n",
            "---  ------                     --------------  -----  \n",
            " 0   Item_Identifier            8523 non-null   object \n",
            " 1   Item_Weight                7060 non-null   float64\n",
            " 2   Item_Fat_Content           8523 non-null   object \n",
            " 3   Item_Visibility            8523 non-null   float64\n",
            " 4   Item_Type                  8523 non-null   object \n",
            " 5   Item_MRP                   8523 non-null   float64\n",
            " 6   Outlet_Identifier          8523 non-null   object \n",
            " 7   Outlet_Establishment_Year  8523 non-null   int64  \n",
            " 8   Outlet_Size                6113 non-null   object \n",
            " 9   Outlet_Location_Type       8523 non-null   object \n",
            " 10  Outlet_Type                8523 non-null   object \n",
            " 11  Item_Outlet_Sales          8523 non-null   float64\n",
            "dtypes: float64(4), int64(1), object(7)\n",
            "memory usage: 799.2+ KB\n"
          ]
        }
      ]
    },
    {
      "cell_type": "code",
      "source": [
        "#  Make a copy to Avoid any Manripulation\n",
        "df_ml =df.copy()"
      ],
      "metadata": {
        "id": "L7YUL8N9Qm10"
      },
      "execution_count": 7,
      "outputs": []
    },
    {
      "cell_type": "markdown",
      "source": [
        "#5.check for Duplicated values and drope Uniqe ID "
      ],
      "metadata": {
        "id": "ygkY4q0iQ-Hy"
      }
    },
    {
      "cell_type": "code",
      "source": [
        "# Drope the Uniqe ID\n",
        "df_ml.drop(['Item_Identifier','Outlet_Identifier'], axis=1, inplace=True)"
      ],
      "metadata": {
        "id": "_iQl6eJbRCW7"
      },
      "execution_count": 8,
      "outputs": []
    },
    {
      "cell_type": "code",
      "source": [
        "# Check if there is Duplicated Values\n",
        "df_ml.duplicated().sum()"
      ],
      "metadata": {
        "colab": {
          "base_uri": "https://localhost:8080/"
        },
        "id": "4rXcq-yeS4Ol",
        "outputId": "9f6c23a7-f0f8-4724-b306-1a9bf630aa54"
      },
      "execution_count": 9,
      "outputs": [
        {
          "output_type": "execute_result",
          "data": {
            "text/plain": [
              "0"
            ]
          },
          "metadata": {},
          "execution_count": 9
        }
      ]
    },
    {
      "cell_type": "code",
      "source": [
        "  #  How many data we using from the orginal data \n",
        "df_ml.dropna().shape[0] / df.shape[0]"
      ],
      "metadata": {
        "colab": {
          "base_uri": "https://localhost:8080/"
        },
        "id": "PL45LbebW9AD",
        "outputId": "efd8d93c-4003-4d44-91ed-264e62cdd809"
      },
      "execution_count": 10,
      "outputs": [
        {
          "output_type": "execute_result",
          "data": {
            "text/plain": [
              "0.5455825413586766"
            ]
          },
          "metadata": {},
          "execution_count": 10
        }
      ]
    },
    {
      "cell_type": "code",
      "source": [
        "df_ml.nunique"
      ],
      "metadata": {
        "colab": {
          "base_uri": "https://localhost:8080/"
        },
        "id": "8fKv8sgEX1Q4",
        "outputId": "b96b3f0d-a0e4-451a-b796-fb0016f15bc5"
      },
      "execution_count": 11,
      "outputs": [
        {
          "output_type": "execute_result",
          "data": {
            "text/plain": [
              "<bound method DataFrame.nunique of       Item_Weight Item_Fat_Content  Item_Visibility              Item_Type  \\\n",
              "0           9.300          Low Fat         0.016047                  Dairy   \n",
              "1           5.920          Regular         0.019278            Soft Drinks   \n",
              "2          17.500          Low Fat         0.016760                   Meat   \n",
              "3          19.200          Regular         0.000000  Fruits and Vegetables   \n",
              "4           8.930          Low Fat         0.000000              Household   \n",
              "...           ...              ...              ...                    ...   \n",
              "8518        6.865          Low Fat         0.056783            Snack Foods   \n",
              "8519        8.380          Regular         0.046982           Baking Goods   \n",
              "8520       10.600          Low Fat         0.035186     Health and Hygiene   \n",
              "8521        7.210          Regular         0.145221            Snack Foods   \n",
              "8522       14.800          Low Fat         0.044878            Soft Drinks   \n",
              "\n",
              "      Item_MRP  Outlet_Establishment_Year Outlet_Size Outlet_Location_Type  \\\n",
              "0     249.8092                       1999      Medium               Tier 1   \n",
              "1      48.2692                       2009      Medium               Tier 3   \n",
              "2     141.6180                       1999      Medium               Tier 1   \n",
              "3     182.0950                       1998         NaN               Tier 3   \n",
              "4      53.8614                       1987        High               Tier 3   \n",
              "...        ...                        ...         ...                  ...   \n",
              "8518  214.5218                       1987        High               Tier 3   \n",
              "8519  108.1570                       2002         NaN               Tier 2   \n",
              "8520   85.1224                       2004       Small               Tier 2   \n",
              "8521  103.1332                       2009      Medium               Tier 3   \n",
              "8522   75.4670                       1997       Small               Tier 1   \n",
              "\n",
              "            Outlet_Type  Item_Outlet_Sales  \n",
              "0     Supermarket Type1          3735.1380  \n",
              "1     Supermarket Type2           443.4228  \n",
              "2     Supermarket Type1          2097.2700  \n",
              "3         Grocery Store           732.3800  \n",
              "4     Supermarket Type1           994.7052  \n",
              "...                 ...                ...  \n",
              "8518  Supermarket Type1          2778.3834  \n",
              "8519  Supermarket Type1           549.2850  \n",
              "8520  Supermarket Type1          1193.1136  \n",
              "8521  Supermarket Type2          1845.5976  \n",
              "8522  Supermarket Type1           765.6700  \n",
              "\n",
              "[8523 rows x 10 columns]>"
            ]
          },
          "metadata": {},
          "execution_count": 11
        }
      ]
    },
    {
      "cell_type": "code",
      "source": [
        "## Checkand fix ordinal Value if we use the ordinal Encoding\n",
        "df_ml['Item_Fat_Content'].value_counts()"
      ],
      "metadata": {
        "colab": {
          "base_uri": "https://localhost:8080/"
        },
        "id": "fKExX_Q4YozV",
        "outputId": "b0516c9f-85d9-46fd-c289-cd1db0b34d32"
      },
      "execution_count": 12,
      "outputs": [
        {
          "output_type": "execute_result",
          "data": {
            "text/plain": [
              "Low Fat    5089\n",
              "Regular    2889\n",
              "LF          316\n",
              "reg         117\n",
              "low fat     112\n",
              "Name: Item_Fat_Content, dtype: int64"
            ]
          },
          "metadata": {},
          "execution_count": 12
        }
      ]
    },
    {
      "cell_type": "code",
      "source": [
        "df_ml['Item_Fat_Content'] = df_ml['Item_Fat_Content'].replace('LF', 'Low Fat')\n",
        "df_ml['Item_Fat_Content'] = df_ml['Item_Fat_Content'].replace('reg', 'Regular')\n",
        "df_ml['Item_Fat_Content'] = df_ml['Item_Fat_Content'].replace('low fat', 'Low Fat')\n",
        "df_ml['Item_Fat_Content'].value_counts()"
      ],
      "metadata": {
        "colab": {
          "base_uri": "https://localhost:8080/"
        },
        "id": "6YMksfgPZIvx",
        "outputId": "8eca3ce2-4d83-4264-bcc8-bea9ac043f11"
      },
      "execution_count": 13,
      "outputs": [
        {
          "output_type": "execute_result",
          "data": {
            "text/plain": [
              "Low Fat    5517\n",
              "Regular    3006\n",
              "Name: Item_Fat_Content, dtype: int64"
            ]
          },
          "metadata": {},
          "execution_count": 13
        }
      ]
    },
    {
      "cell_type": "code",
      "source": [
        "## Checkand fix ordinal Value\n",
        "df_ml['Outlet_Size'].value_counts()"
      ],
      "metadata": {
        "colab": {
          "base_uri": "https://localhost:8080/"
        },
        "id": "7m7IleTqZa5r",
        "outputId": "9dd0e934-474c-4033-9e08-d000ba1a389d"
      },
      "execution_count": 14,
      "outputs": [
        {
          "output_type": "execute_result",
          "data": {
            "text/plain": [
              "Medium    2793\n",
              "Small     2388\n",
              "High       932\n",
              "Name: Outlet_Size, dtype: int64"
            ]
          },
          "metadata": {},
          "execution_count": 14
        }
      ]
    },
    {
      "cell_type": "code",
      "source": [
        "df_ml['Outlet_Size'] = df_ml['Outlet_Size'].replace('High', 'Large')\n",
        "df_ml['Outlet_Size'].value_counts()"
      ],
      "metadata": {
        "colab": {
          "base_uri": "https://localhost:8080/"
        },
        "id": "Vx3vhTZpZk4H",
        "outputId": "1603ff81-21e9-4d4a-ddef-2ef7c7bd235d"
      },
      "execution_count": 15,
      "outputs": [
        {
          "output_type": "execute_result",
          "data": {
            "text/plain": [
              "Medium    2793\n",
              "Small     2388\n",
              "Large      932\n",
              "Name: Outlet_Size, dtype: int64"
            ]
          },
          "metadata": {},
          "execution_count": 15
        }
      ]
    },
    {
      "cell_type": "markdown",
      "source": [
        "#6.Validation Split"
      ],
      "metadata": {
        "id": "t_IVK1LLaMYT"
      }
    },
    {
      "cell_type": "code",
      "source": [
        "X = df_ml.drop(columns=['Item_Outlet_Sales'])\n",
        "y = df_ml['Item_Outlet_Sales']"
      ],
      "metadata": {
        "id": "VKZuZgG_aLNd"
      },
      "execution_count": 16,
      "outputs": []
    },
    {
      "cell_type": "code",
      "source": [
        "# select only object columns\n",
        "X_train, X_test, y_train, y_test = train_test_split(X, y, test_size=.25 , random_state=42)\n",
        "\n",
        "# check value counts for each object column\n",
        "categoricals = X_train.select_dtypes(include='object')\n",
        "\n",
        "for col in categoricals.columns:\n",
        "  print(col)\n",
        "  print(categoricals[col].value_counts(), '\\n')"
      ],
      "metadata": {
        "colab": {
          "base_uri": "https://localhost:8080/"
        },
        "id": "vN3Ug9uWfaGI",
        "outputId": "5bc97abd-7d6d-4b37-d9f2-cf3b862233d6"
      },
      "execution_count": 17,
      "outputs": [
        {
          "output_type": "stream",
          "name": "stdout",
          "text": [
            "Item_Fat_Content\n",
            "Low Fat    4129\n",
            "Regular    2263\n",
            "Name: Item_Fat_Content, dtype: int64 \n",
            "\n",
            "Item_Type\n",
            "Fruits and Vegetables    948\n",
            "Snack Foods              906\n",
            "Household                695\n",
            "Frozen Foods             632\n",
            "Dairy                    507\n",
            "Canned                   481\n",
            "Baking Goods             478\n",
            "Health and Hygiene       390\n",
            "Soft Drinks              331\n",
            "Meat                     302\n",
            "Breads                   175\n",
            "Hard Drinks              169\n",
            "Others                   130\n",
            "Starchy Foods            122\n",
            "Breakfast                 84\n",
            "Seafood                   42\n",
            "Name: Item_Type, dtype: int64 \n",
            "\n",
            "Outlet_Size\n",
            "Medium    2103\n",
            "Small     1788\n",
            "Large      689\n",
            "Name: Outlet_Size, dtype: int64 \n",
            "\n",
            "Outlet_Location_Type\n",
            "Tier 3    2531\n",
            "Tier 2    2106\n",
            "Tier 1    1755\n",
            "Name: Outlet_Location_Type, dtype: int64 \n",
            "\n",
            "Outlet_Type\n",
            "Supermarket Type1    4166\n",
            "Grocery Store         799\n",
            "Supermarket Type3     723\n",
            "Supermarket Type2     704\n",
            "Name: Outlet_Type, dtype: int64 \n",
            "\n"
          ]
        }
      ]
    },
    {
      "cell_type": "markdown",
      "source": [
        "##7.Instantiate Colume Selector"
      ],
      "metadata": {
        "id": "CjfH9bbi07NN"
      }
    },
    {
      "cell_type": "code",
      "source": [
        "#  Selectors\n",
        "cat_selector = make_column_selector(dtype_include='object')\n",
        "num_selector = make_column_selector(dtype_include='number')"
      ],
      "metadata": {
        "id": "PjxY6MG5f-J0"
      },
      "execution_count": 18,
      "outputs": []
    },
    {
      "cell_type": "code",
      "source": [
        "#instantiate the StandardScaler, OneHotEncoder, OrdinalEncoder and Imputers\n",
        "scaler = StandardScaler()\n",
        "ohe = OneHotEncoder(sparse=False, handle_unknown='ignore')\n",
        "\n",
        "mean_imputer = SimpleImputer(strategy='mean')\n",
        "freq_imputer = SimpleImputer(strategy='most_frequent')\n",
        "\n",
        "#this is showing for learning purpose but we are not using it here. \n",
        "missing_imputer = SimpleImputer(strategy='constant', fill_value='missing')"
      ],
      "metadata": {
        "id": "D7oZ0C9K1Jcz"
      },
      "execution_count": 19,
      "outputs": []
    },
    {
      "cell_type": "markdown",
      "source": [
        "# 8.Ordinal Encoder"
      ],
      "metadata": {
        "id": "wB1Nj1w-1hZF"
      }
    },
    {
      "cell_type": "code",
      "source": [
        "#create a list of ordinal labels, in order of least to most\n",
        "\n",
        "outlet_size_lables = ['Small','Medium','Large']\n",
        "\n",
        "#combine the ordered list in the order that the columns appear\n",
        "ordered_labels = [outlet_size_lables]\n",
        "\n",
        "#handle_unknown is 'error' by default.  That's a good place to start\n",
        "#but it may cause problems in a production model.  \n",
        "ordinal = OrdinalEncoder(categories = ordered_labels)"
      ],
      "metadata": {
        "id": "BFZy0X-z1mc5"
      },
      "execution_count": 20,
      "outputs": []
    },
    {
      "cell_type": "markdown",
      "source": [
        "#9.Create a Pipeline Numeric Data and a Pipeline for Categorical Data"
      ],
      "metadata": {
        "id": "g0N9JJKK3NzQ"
      }
    },
    {
      "cell_type": "code",
      "source": [
        "# Setup the pipelines for the numeric and categorical data\n",
        "\n",
        "num_pipeline = make_pipeline(mean_imputer, scaler)\n",
        "ord_pipeline = make_pipeline(freq_imputer, ordinal)\n",
        "nom_pipeline = make_pipeline(missing_imputer, ohe)"
      ],
      "metadata": {
        "id": "y3XhFnay3RLr"
      },
      "execution_count": 21,
      "outputs": []
    },
    {
      "cell_type": "markdown",
      "source": [
        "#10.Create Tuples to Pair Pipelines with Columns"
      ],
      "metadata": {
        "id": "Rh-idwVn3fUg"
      }
    },
    {
      "cell_type": "code",
      "source": [
        "# Create column lists for objects and a number selector\n",
        "ordinal_cols = ['Outlet_Size']\n",
        "nominal_cols = ['Item_Fat_Content','Item_Type','Outlet_Location_Type','Outlet_Type']\n",
        "\n",
        "num_selector = make_column_selector(dtype_include='number')\n",
        "\n",
        "numeric_tuple = (num_pipeline, num_selector)\n",
        "ordinal_tuple = (ord_pipeline, ordinal_cols)\n",
        "nominal_tuple = (nom_pipeline, nominal_cols)"
      ],
      "metadata": {
        "id": "y_z9j65q3ikn"
      },
      "execution_count": 22,
      "outputs": []
    },
    {
      "cell_type": "markdown",
      "source": [
        "#11.Create Column Transformer to Apply Different Preprocessing to Different Columns"
      ],
      "metadata": {
        "id": "PM95ynkZ37-p"
      }
    },
    {
      "cell_type": "code",
      "source": [
        "# Instantiate the make column transformer\n",
        "\n",
        "preprocessor = make_column_transformer(ordinal_tuple, \n",
        "                                          numeric_tuple, \n",
        "                                          nominal_tuple, \n",
        "                                          remainder='drop')"
      ],
      "metadata": {
        "id": "FjUltvZ44AgH"
      },
      "execution_count": 23,
      "outputs": []
    },
    {
      "cell_type": "markdown",
      "source": [
        "#12.Fit the Column Transformer on the Training Data"
      ],
      "metadata": {
        "id": "1mZMQG9I4NQp"
      }
    },
    {
      "cell_type": "code",
      "source": [
        "# Fit the column transformer on the X_train\n",
        "\n",
        "preprocessor.fit(X_train)"
      ],
      "metadata": {
        "colab": {
          "base_uri": "https://localhost:8080/",
          "height": 153
        },
        "id": "qeeV2kL44P-M",
        "outputId": "a6ff6f82-fa6a-4bff-d9e5-a2ef23458046"
      },
      "execution_count": 24,
      "outputs": [
        {
          "output_type": "execute_result",
          "data": {
            "text/plain": [
              "ColumnTransformer(transformers=[('pipeline-1',\n",
              "                                 Pipeline(steps=[('simpleimputer',\n",
              "                                                  SimpleImputer(strategy='most_frequent')),\n",
              "                                                 ('ordinalencoder',\n",
              "                                                  OrdinalEncoder(categories=[['Small',\n",
              "                                                                              'Medium',\n",
              "                                                                              'Large']]))]),\n",
              "                                 ['Outlet_Size']),\n",
              "                                ('pipeline-2',\n",
              "                                 Pipeline(steps=[('simpleimputer',\n",
              "                                                  SimpleImputer()),\n",
              "                                                 ('standardscaler',\n",
              "                                                  StandardScaler())]),\n",
              "                                 <sklearn.compose._column_transformer.make_column_selector object at 0x7f2ce7a8eb50>),\n",
              "                                ('pipeline-3',\n",
              "                                 Pipeline(steps=[('simpleimputer',\n",
              "                                                  SimpleImputer(fill_value='missing',\n",
              "                                                                strategy='constant')),\n",
              "                                                 ('onehotencoder',\n",
              "                                                  OneHotEncoder(handle_unknown='ignore',\n",
              "                                                                sparse=False))]),\n",
              "                                 ['Item_Fat_Content', 'Item_Type',\n",
              "                                  'Outlet_Location_Type', 'Outlet_Type'])])"
            ],
            "text/html": [
              "<style>#sk-0e9fc562-01ff-4b10-a054-5888205e2e05 {color: black;background-color: white;}#sk-0e9fc562-01ff-4b10-a054-5888205e2e05 pre{padding: 0;}#sk-0e9fc562-01ff-4b10-a054-5888205e2e05 div.sk-toggleable {background-color: white;}#sk-0e9fc562-01ff-4b10-a054-5888205e2e05 label.sk-toggleable__label {cursor: pointer;display: block;width: 100%;margin-bottom: 0;padding: 0.3em;box-sizing: border-box;text-align: center;}#sk-0e9fc562-01ff-4b10-a054-5888205e2e05 label.sk-toggleable__label-arrow:before {content: \"▸\";float: left;margin-right: 0.25em;color: #696969;}#sk-0e9fc562-01ff-4b10-a054-5888205e2e05 label.sk-toggleable__label-arrow:hover:before {color: black;}#sk-0e9fc562-01ff-4b10-a054-5888205e2e05 div.sk-estimator:hover label.sk-toggleable__label-arrow:before {color: black;}#sk-0e9fc562-01ff-4b10-a054-5888205e2e05 div.sk-toggleable__content {max-height: 0;max-width: 0;overflow: hidden;text-align: left;background-color: #f0f8ff;}#sk-0e9fc562-01ff-4b10-a054-5888205e2e05 div.sk-toggleable__content pre {margin: 0.2em;color: black;border-radius: 0.25em;background-color: #f0f8ff;}#sk-0e9fc562-01ff-4b10-a054-5888205e2e05 input.sk-toggleable__control:checked~div.sk-toggleable__content {max-height: 200px;max-width: 100%;overflow: auto;}#sk-0e9fc562-01ff-4b10-a054-5888205e2e05 input.sk-toggleable__control:checked~label.sk-toggleable__label-arrow:before {content: \"▾\";}#sk-0e9fc562-01ff-4b10-a054-5888205e2e05 div.sk-estimator input.sk-toggleable__control:checked~label.sk-toggleable__label {background-color: #d4ebff;}#sk-0e9fc562-01ff-4b10-a054-5888205e2e05 div.sk-label input.sk-toggleable__control:checked~label.sk-toggleable__label {background-color: #d4ebff;}#sk-0e9fc562-01ff-4b10-a054-5888205e2e05 input.sk-hidden--visually {border: 0;clip: rect(1px 1px 1px 1px);clip: rect(1px, 1px, 1px, 1px);height: 1px;margin: -1px;overflow: hidden;padding: 0;position: absolute;width: 1px;}#sk-0e9fc562-01ff-4b10-a054-5888205e2e05 div.sk-estimator {font-family: monospace;background-color: #f0f8ff;border: 1px dotted black;border-radius: 0.25em;box-sizing: border-box;margin-bottom: 0.5em;}#sk-0e9fc562-01ff-4b10-a054-5888205e2e05 div.sk-estimator:hover {background-color: #d4ebff;}#sk-0e9fc562-01ff-4b10-a054-5888205e2e05 div.sk-parallel-item::after {content: \"\";width: 100%;border-bottom: 1px solid gray;flex-grow: 1;}#sk-0e9fc562-01ff-4b10-a054-5888205e2e05 div.sk-label:hover label.sk-toggleable__label {background-color: #d4ebff;}#sk-0e9fc562-01ff-4b10-a054-5888205e2e05 div.sk-serial::before {content: \"\";position: absolute;border-left: 1px solid gray;box-sizing: border-box;top: 2em;bottom: 0;left: 50%;}#sk-0e9fc562-01ff-4b10-a054-5888205e2e05 div.sk-serial {display: flex;flex-direction: column;align-items: center;background-color: white;padding-right: 0.2em;padding-left: 0.2em;}#sk-0e9fc562-01ff-4b10-a054-5888205e2e05 div.sk-item {z-index: 1;}#sk-0e9fc562-01ff-4b10-a054-5888205e2e05 div.sk-parallel {display: flex;align-items: stretch;justify-content: center;background-color: white;}#sk-0e9fc562-01ff-4b10-a054-5888205e2e05 div.sk-parallel::before {content: \"\";position: absolute;border-left: 1px solid gray;box-sizing: border-box;top: 2em;bottom: 0;left: 50%;}#sk-0e9fc562-01ff-4b10-a054-5888205e2e05 div.sk-parallel-item {display: flex;flex-direction: column;position: relative;background-color: white;}#sk-0e9fc562-01ff-4b10-a054-5888205e2e05 div.sk-parallel-item:first-child::after {align-self: flex-end;width: 50%;}#sk-0e9fc562-01ff-4b10-a054-5888205e2e05 div.sk-parallel-item:last-child::after {align-self: flex-start;width: 50%;}#sk-0e9fc562-01ff-4b10-a054-5888205e2e05 div.sk-parallel-item:only-child::after {width: 0;}#sk-0e9fc562-01ff-4b10-a054-5888205e2e05 div.sk-dashed-wrapped {border: 1px dashed gray;margin: 0 0.4em 0.5em 0.4em;box-sizing: border-box;padding-bottom: 0.4em;background-color: white;position: relative;}#sk-0e9fc562-01ff-4b10-a054-5888205e2e05 div.sk-label label {font-family: monospace;font-weight: bold;background-color: white;display: inline-block;line-height: 1.2em;}#sk-0e9fc562-01ff-4b10-a054-5888205e2e05 div.sk-label-container {position: relative;z-index: 2;text-align: center;}#sk-0e9fc562-01ff-4b10-a054-5888205e2e05 div.sk-container {/* jupyter's `normalize.less` sets `[hidden] { display: none; }` but bootstrap.min.css set `[hidden] { display: none !important; }` so we also need the `!important` here to be able to override the default hidden behavior on the sphinx rendered scikit-learn.org. See: https://github.com/scikit-learn/scikit-learn/issues/21755 */display: inline-block !important;position: relative;}#sk-0e9fc562-01ff-4b10-a054-5888205e2e05 div.sk-text-repr-fallback {display: none;}</style><div id=\"sk-0e9fc562-01ff-4b10-a054-5888205e2e05\" class=\"sk-top-container\"><div class=\"sk-text-repr-fallback\"><pre>ColumnTransformer(transformers=[(&#x27;pipeline-1&#x27;,\n",
              "                                 Pipeline(steps=[(&#x27;simpleimputer&#x27;,\n",
              "                                                  SimpleImputer(strategy=&#x27;most_frequent&#x27;)),\n",
              "                                                 (&#x27;ordinalencoder&#x27;,\n",
              "                                                  OrdinalEncoder(categories=[[&#x27;Small&#x27;,\n",
              "                                                                              &#x27;Medium&#x27;,\n",
              "                                                                              &#x27;Large&#x27;]]))]),\n",
              "                                 [&#x27;Outlet_Size&#x27;]),\n",
              "                                (&#x27;pipeline-2&#x27;,\n",
              "                                 Pipeline(steps=[(&#x27;simpleimputer&#x27;,\n",
              "                                                  SimpleImputer()),\n",
              "                                                 (&#x27;standardscaler&#x27;,\n",
              "                                                  StandardScaler())]),\n",
              "                                 &lt;sklearn.compose._column_transformer.make_column_selector object at 0x7f2ce7a8eb50&gt;),\n",
              "                                (&#x27;pipeline-3&#x27;,\n",
              "                                 Pipeline(steps=[(&#x27;simpleimputer&#x27;,\n",
              "                                                  SimpleImputer(fill_value=&#x27;missing&#x27;,\n",
              "                                                                strategy=&#x27;constant&#x27;)),\n",
              "                                                 (&#x27;onehotencoder&#x27;,\n",
              "                                                  OneHotEncoder(handle_unknown=&#x27;ignore&#x27;,\n",
              "                                                                sparse=False))]),\n",
              "                                 [&#x27;Item_Fat_Content&#x27;, &#x27;Item_Type&#x27;,\n",
              "                                  &#x27;Outlet_Location_Type&#x27;, &#x27;Outlet_Type&#x27;])])</pre><b>Please rerun this cell to show the HTML repr or trust the notebook.</b></div><div class=\"sk-container\" hidden><div class=\"sk-item sk-dashed-wrapped\"><div class=\"sk-label-container\"><div class=\"sk-label sk-toggleable\"><input class=\"sk-toggleable__control sk-hidden--visually\" id=\"faf18d28-1921-41ff-90a5-0de26d3037e7\" type=\"checkbox\" ><label for=\"faf18d28-1921-41ff-90a5-0de26d3037e7\" class=\"sk-toggleable__label sk-toggleable__label-arrow\">ColumnTransformer</label><div class=\"sk-toggleable__content\"><pre>ColumnTransformer(transformers=[(&#x27;pipeline-1&#x27;,\n",
              "                                 Pipeline(steps=[(&#x27;simpleimputer&#x27;,\n",
              "                                                  SimpleImputer(strategy=&#x27;most_frequent&#x27;)),\n",
              "                                                 (&#x27;ordinalencoder&#x27;,\n",
              "                                                  OrdinalEncoder(categories=[[&#x27;Small&#x27;,\n",
              "                                                                              &#x27;Medium&#x27;,\n",
              "                                                                              &#x27;Large&#x27;]]))]),\n",
              "                                 [&#x27;Outlet_Size&#x27;]),\n",
              "                                (&#x27;pipeline-2&#x27;,\n",
              "                                 Pipeline(steps=[(&#x27;simpleimputer&#x27;,\n",
              "                                                  SimpleImputer()),\n",
              "                                                 (&#x27;standardscaler&#x27;,\n",
              "                                                  StandardScaler())]),\n",
              "                                 &lt;sklearn.compose._column_transformer.make_column_selector object at 0x7f2ce7a8eb50&gt;),\n",
              "                                (&#x27;pipeline-3&#x27;,\n",
              "                                 Pipeline(steps=[(&#x27;simpleimputer&#x27;,\n",
              "                                                  SimpleImputer(fill_value=&#x27;missing&#x27;,\n",
              "                                                                strategy=&#x27;constant&#x27;)),\n",
              "                                                 (&#x27;onehotencoder&#x27;,\n",
              "                                                  OneHotEncoder(handle_unknown=&#x27;ignore&#x27;,\n",
              "                                                                sparse=False))]),\n",
              "                                 [&#x27;Item_Fat_Content&#x27;, &#x27;Item_Type&#x27;,\n",
              "                                  &#x27;Outlet_Location_Type&#x27;, &#x27;Outlet_Type&#x27;])])</pre></div></div></div><div class=\"sk-parallel\"><div class=\"sk-parallel-item\"><div class=\"sk-item\"><div class=\"sk-label-container\"><div class=\"sk-label sk-toggleable\"><input class=\"sk-toggleable__control sk-hidden--visually\" id=\"cf991649-a98e-4418-9e09-6bd4a7462dff\" type=\"checkbox\" ><label for=\"cf991649-a98e-4418-9e09-6bd4a7462dff\" class=\"sk-toggleable__label sk-toggleable__label-arrow\">pipeline-1</label><div class=\"sk-toggleable__content\"><pre>[&#x27;Outlet_Size&#x27;]</pre></div></div></div><div class=\"sk-serial\"><div class=\"sk-item\"><div class=\"sk-serial\"><div class=\"sk-item\"><div class=\"sk-estimator sk-toggleable\"><input class=\"sk-toggleable__control sk-hidden--visually\" id=\"44740e98-c6e1-49b3-a618-298f87f5d87d\" type=\"checkbox\" ><label for=\"44740e98-c6e1-49b3-a618-298f87f5d87d\" class=\"sk-toggleable__label sk-toggleable__label-arrow\">SimpleImputer</label><div class=\"sk-toggleable__content\"><pre>SimpleImputer(strategy=&#x27;most_frequent&#x27;)</pre></div></div></div><div class=\"sk-item\"><div class=\"sk-estimator sk-toggleable\"><input class=\"sk-toggleable__control sk-hidden--visually\" id=\"927424e0-c0d1-4325-9ba0-c37c553aa542\" type=\"checkbox\" ><label for=\"927424e0-c0d1-4325-9ba0-c37c553aa542\" class=\"sk-toggleable__label sk-toggleable__label-arrow\">OrdinalEncoder</label><div class=\"sk-toggleable__content\"><pre>OrdinalEncoder(categories=[[&#x27;Small&#x27;, &#x27;Medium&#x27;, &#x27;Large&#x27;]])</pre></div></div></div></div></div></div></div></div><div class=\"sk-parallel-item\"><div class=\"sk-item\"><div class=\"sk-label-container\"><div class=\"sk-label sk-toggleable\"><input class=\"sk-toggleable__control sk-hidden--visually\" id=\"588d6170-f762-4401-97c3-92bcf9e999a3\" type=\"checkbox\" ><label for=\"588d6170-f762-4401-97c3-92bcf9e999a3\" class=\"sk-toggleable__label sk-toggleable__label-arrow\">pipeline-2</label><div class=\"sk-toggleable__content\"><pre>&lt;sklearn.compose._column_transformer.make_column_selector object at 0x7f2ce7a8eb50&gt;</pre></div></div></div><div class=\"sk-serial\"><div class=\"sk-item\"><div class=\"sk-serial\"><div class=\"sk-item\"><div class=\"sk-estimator sk-toggleable\"><input class=\"sk-toggleable__control sk-hidden--visually\" id=\"ff58c7da-4dcf-4d72-a1ac-81d9be9ea5be\" type=\"checkbox\" ><label for=\"ff58c7da-4dcf-4d72-a1ac-81d9be9ea5be\" class=\"sk-toggleable__label sk-toggleable__label-arrow\">SimpleImputer</label><div class=\"sk-toggleable__content\"><pre>SimpleImputer()</pre></div></div></div><div class=\"sk-item\"><div class=\"sk-estimator sk-toggleable\"><input class=\"sk-toggleable__control sk-hidden--visually\" id=\"3d8c7863-9d1a-41ee-b376-b92b12879d52\" type=\"checkbox\" ><label for=\"3d8c7863-9d1a-41ee-b376-b92b12879d52\" class=\"sk-toggleable__label sk-toggleable__label-arrow\">StandardScaler</label><div class=\"sk-toggleable__content\"><pre>StandardScaler()</pre></div></div></div></div></div></div></div></div><div class=\"sk-parallel-item\"><div class=\"sk-item\"><div class=\"sk-label-container\"><div class=\"sk-label sk-toggleable\"><input class=\"sk-toggleable__control sk-hidden--visually\" id=\"6db08c02-9878-4d7b-a547-16a376913ad2\" type=\"checkbox\" ><label for=\"6db08c02-9878-4d7b-a547-16a376913ad2\" class=\"sk-toggleable__label sk-toggleable__label-arrow\">pipeline-3</label><div class=\"sk-toggleable__content\"><pre>[&#x27;Item_Fat_Content&#x27;, &#x27;Item_Type&#x27;, &#x27;Outlet_Location_Type&#x27;, &#x27;Outlet_Type&#x27;]</pre></div></div></div><div class=\"sk-serial\"><div class=\"sk-item\"><div class=\"sk-serial\"><div class=\"sk-item\"><div class=\"sk-estimator sk-toggleable\"><input class=\"sk-toggleable__control sk-hidden--visually\" id=\"7f8b0ac2-2fba-4768-840a-ec1527f38648\" type=\"checkbox\" ><label for=\"7f8b0ac2-2fba-4768-840a-ec1527f38648\" class=\"sk-toggleable__label sk-toggleable__label-arrow\">SimpleImputer</label><div class=\"sk-toggleable__content\"><pre>SimpleImputer(fill_value=&#x27;missing&#x27;, strategy=&#x27;constant&#x27;)</pre></div></div></div><div class=\"sk-item\"><div class=\"sk-estimator sk-toggleable\"><input class=\"sk-toggleable__control sk-hidden--visually\" id=\"43906b48-415b-4e8c-991a-2dbb0e82bcb9\" type=\"checkbox\" ><label for=\"43906b48-415b-4e8c-991a-2dbb0e82bcb9\" class=\"sk-toggleable__label sk-toggleable__label-arrow\">OneHotEncoder</label><div class=\"sk-toggleable__content\"><pre>OneHotEncoder(handle_unknown=&#x27;ignore&#x27;, sparse=False)</pre></div></div></div></div></div></div></div></div></div></div></div></div>"
            ]
          },
          "metadata": {},
          "execution_count": 24
        }
      ]
    },
    {
      "cell_type": "markdown",
      "source": [
        "#13.Transform Both Training and Testing Data"
      ],
      "metadata": {
        "id": "_KeBYcGA4dB3"
      }
    },
    {
      "cell_type": "code",
      "source": [
        "# Transform the X_train and the X_test\n",
        "\n",
        "X_train_transformed = preprocessor.transform(X_train)\n",
        "\n",
        "X_test_transformed = preprocessor.transform(X_test)"
      ],
      "metadata": {
        "id": "WAcRHqg_4gSm"
      },
      "execution_count": 25,
      "outputs": []
    },
    {
      "cell_type": "code",
      "source": [
        "X_train_transformed.shape"
      ],
      "metadata": {
        "colab": {
          "base_uri": "https://localhost:8080/"
        },
        "id": "tmFWlnhX4rJK",
        "outputId": "71261d8e-a19e-4d76-b4ef-2f7075b95bc8"
      },
      "execution_count": 26,
      "outputs": [
        {
          "output_type": "execute_result",
          "data": {
            "text/plain": [
              "(6392, 30)"
            ]
          },
          "metadata": {},
          "execution_count": 26
        }
      ]
    },
    {
      "cell_type": "markdown",
      "source": [
        "##Check the Result"
      ],
      "metadata": {
        "id": "yfUf7mHE4lpj"
      }
    },
    {
      "cell_type": "code",
      "source": [
        "X_train_transformed[:5]"
      ],
      "metadata": {
        "colab": {
          "base_uri": "https://localhost:8080/"
        },
        "id": "a7c9sZJ740mf",
        "outputId": "711d98fc-c2ef-4071-ff66-04dbbd19cd33"
      },
      "execution_count": 27,
      "outputs": [
        {
          "output_type": "execute_result",
          "data": {
            "text/plain": [
              "array([[ 1.        ,  0.81724868, -0.71277507,  1.82810922,  1.32784893,\n",
              "         1.        ,  0.        ,  0.        ,  0.        ,  0.        ,\n",
              "         0.        ,  0.        ,  0.        ,  0.        ,  0.        ,\n",
              "         0.        ,  1.        ,  0.        ,  0.        ,  0.        ,\n",
              "         0.        ,  0.        ,  0.        ,  0.        ,  0.        ,\n",
              "         1.        ,  0.        ,  0.        ,  1.        ,  0.        ],\n",
              "       [ 1.        ,  0.5563395 , -1.29105225,  0.60336888,  1.32784893,\n",
              "         0.        ,  1.        ,  0.        ,  0.        ,  0.        ,\n",
              "         0.        ,  0.        ,  0.        ,  0.        ,  0.        ,\n",
              "         0.        ,  0.        ,  0.        ,  0.        ,  0.        ,\n",
              "         1.        ,  0.        ,  0.        ,  0.        ,  0.        ,\n",
              "         1.        ,  0.        ,  0.        ,  1.        ,  0.        ],\n",
              "       [ 1.        , -0.13151196,  1.81331864,  0.24454056,  0.13618724,\n",
              "         0.        ,  1.        ,  0.        ,  0.        ,  0.        ,\n",
              "         0.        ,  0.        ,  0.        ,  0.        ,  0.        ,\n",
              "         0.        ,  0.        ,  1.        ,  0.        ,  0.        ,\n",
              "         0.        ,  0.        ,  0.        ,  1.        ,  0.        ,\n",
              "         0.        ,  0.        ,  1.        ,  0.        ,  0.        ],\n",
              "       [ 0.        , -1.1692189 , -1.00493112, -0.95259072,  0.73201809,\n",
              "         1.        ,  0.        ,  1.        ,  0.        ,  0.        ,\n",
              "         0.        ,  0.        ,  0.        ,  0.        ,  0.        ,\n",
              "         0.        ,  0.        ,  0.        ,  0.        ,  0.        ,\n",
              "         0.        ,  0.        ,  0.        ,  0.        ,  1.        ,\n",
              "         0.        ,  0.        ,  1.        ,  0.        ,  0.        ],\n",
              "       [ 1.        ,  1.52881915, -0.96548425, -0.33646004,  0.49368575,\n",
              "         1.        ,  0.        ,  0.        ,  0.        ,  0.        ,\n",
              "         0.        ,  0.        ,  1.        ,  0.        ,  0.        ,\n",
              "         0.        ,  0.        ,  0.        ,  0.        ,  0.        ,\n",
              "         0.        ,  0.        ,  0.        ,  0.        ,  1.        ,\n",
              "         0.        ,  0.        ,  1.        ,  0.        ,  0.        ]])"
            ]
          },
          "metadata": {},
          "execution_count": 27
        }
      ]
    },
    {
      "cell_type": "code",
      "source": [
        "np.isnan(X_train_transformed).sum()"
      ],
      "metadata": {
        "colab": {
          "base_uri": "https://localhost:8080/"
        },
        "id": "VyF_o37j45Oi",
        "outputId": "731ce6c5-c14a-4b2e-e048-00f4a1a1a16d"
      },
      "execution_count": 28,
      "outputs": [
        {
          "output_type": "execute_result",
          "data": {
            "text/plain": [
              "0"
            ]
          },
          "metadata": {},
          "execution_count": 28
        }
      ]
    },
    {
      "cell_type": "markdown",
      "source": [
        "#Project 1 - Final"
      ],
      "metadata": {
        "id": "l04Qm-urJoKd"
      }
    },
    {
      "cell_type": "markdown",
      "source": [
        " # 1. linear regression"
      ],
      "metadata": {
        "id": "X6Fh-VLxKh6f"
      }
    },
    {
      "cell_type": "code",
      "source": [
        "# Import \n",
        "from sklearn.linear_model import LinearRegression\n"
      ],
      "metadata": {
        "id": "tzFtCyqiLRaf"
      },
      "execution_count": 29,
      "outputs": []
    },
    {
      "cell_type": "code",
      "source": [
        "#create linear regression model\n",
        "reg_model = LinearRegression()\n",
        "reg_pipe = make_pipeline(preprocessor, reg_model)\n",
        "# Fit the Model Pipline to Training Data \n",
        "reg_pipe.fit(X_train, y_train)"
      ],
      "metadata": {
        "id": "xCXpZOvFKswm",
        "outputId": "3afa79c8-3d40-4b2a-b56a-833fa09b786e",
        "colab": {
          "base_uri": "https://localhost:8080/",
          "height": 0
        }
      },
      "execution_count": 30,
      "outputs": [
        {
          "output_type": "execute_result",
          "data": {
            "text/plain": [
              "Pipeline(steps=[('columntransformer',\n",
              "                 ColumnTransformer(transformers=[('pipeline-1',\n",
              "                                                  Pipeline(steps=[('simpleimputer',\n",
              "                                                                   SimpleImputer(strategy='most_frequent')),\n",
              "                                                                  ('ordinalencoder',\n",
              "                                                                   OrdinalEncoder(categories=[['Small',\n",
              "                                                                                               'Medium',\n",
              "                                                                                               'Large']]))]),\n",
              "                                                  ['Outlet_Size']),\n",
              "                                                 ('pipeline-2',\n",
              "                                                  Pipeline(steps=[('simpleimputer',\n",
              "                                                                   SimpleImputer()),\n",
              "                                                                  ('standardscaler',\n",
              "                                                                   StandardScaler())]),\n",
              "                                                  <sklearn.compose._column_transformer.make_column_selector object at 0x7f2ce7a8eb50>),\n",
              "                                                 ('pipeline-3',\n",
              "                                                  Pipeline(steps=[('simpleimputer',\n",
              "                                                                   SimpleImputer(fill_value='missing',\n",
              "                                                                                 strategy='constant')),\n",
              "                                                                  ('onehotencoder',\n",
              "                                                                   OneHotEncoder(handle_unknown='ignore',\n",
              "                                                                                 sparse=False))]),\n",
              "                                                  ['Item_Fat_Content',\n",
              "                                                   'Item_Type',\n",
              "                                                   'Outlet_Location_Type',\n",
              "                                                   'Outlet_Type'])])),\n",
              "                ('linearregression', LinearRegression())])"
            ],
            "text/html": [
              "<style>#sk-3ff1310b-bf08-4384-94e8-f893dd5fa8cc {color: black;background-color: white;}#sk-3ff1310b-bf08-4384-94e8-f893dd5fa8cc pre{padding: 0;}#sk-3ff1310b-bf08-4384-94e8-f893dd5fa8cc div.sk-toggleable {background-color: white;}#sk-3ff1310b-bf08-4384-94e8-f893dd5fa8cc label.sk-toggleable__label {cursor: pointer;display: block;width: 100%;margin-bottom: 0;padding: 0.3em;box-sizing: border-box;text-align: center;}#sk-3ff1310b-bf08-4384-94e8-f893dd5fa8cc label.sk-toggleable__label-arrow:before {content: \"▸\";float: left;margin-right: 0.25em;color: #696969;}#sk-3ff1310b-bf08-4384-94e8-f893dd5fa8cc label.sk-toggleable__label-arrow:hover:before {color: black;}#sk-3ff1310b-bf08-4384-94e8-f893dd5fa8cc div.sk-estimator:hover label.sk-toggleable__label-arrow:before {color: black;}#sk-3ff1310b-bf08-4384-94e8-f893dd5fa8cc div.sk-toggleable__content {max-height: 0;max-width: 0;overflow: hidden;text-align: left;background-color: #f0f8ff;}#sk-3ff1310b-bf08-4384-94e8-f893dd5fa8cc div.sk-toggleable__content pre {margin: 0.2em;color: black;border-radius: 0.25em;background-color: #f0f8ff;}#sk-3ff1310b-bf08-4384-94e8-f893dd5fa8cc input.sk-toggleable__control:checked~div.sk-toggleable__content {max-height: 200px;max-width: 100%;overflow: auto;}#sk-3ff1310b-bf08-4384-94e8-f893dd5fa8cc input.sk-toggleable__control:checked~label.sk-toggleable__label-arrow:before {content: \"▾\";}#sk-3ff1310b-bf08-4384-94e8-f893dd5fa8cc div.sk-estimator input.sk-toggleable__control:checked~label.sk-toggleable__label {background-color: #d4ebff;}#sk-3ff1310b-bf08-4384-94e8-f893dd5fa8cc div.sk-label input.sk-toggleable__control:checked~label.sk-toggleable__label {background-color: #d4ebff;}#sk-3ff1310b-bf08-4384-94e8-f893dd5fa8cc input.sk-hidden--visually {border: 0;clip: rect(1px 1px 1px 1px);clip: rect(1px, 1px, 1px, 1px);height: 1px;margin: -1px;overflow: hidden;padding: 0;position: absolute;width: 1px;}#sk-3ff1310b-bf08-4384-94e8-f893dd5fa8cc div.sk-estimator {font-family: monospace;background-color: #f0f8ff;border: 1px dotted black;border-radius: 0.25em;box-sizing: border-box;margin-bottom: 0.5em;}#sk-3ff1310b-bf08-4384-94e8-f893dd5fa8cc div.sk-estimator:hover {background-color: #d4ebff;}#sk-3ff1310b-bf08-4384-94e8-f893dd5fa8cc div.sk-parallel-item::after {content: \"\";width: 100%;border-bottom: 1px solid gray;flex-grow: 1;}#sk-3ff1310b-bf08-4384-94e8-f893dd5fa8cc div.sk-label:hover label.sk-toggleable__label {background-color: #d4ebff;}#sk-3ff1310b-bf08-4384-94e8-f893dd5fa8cc div.sk-serial::before {content: \"\";position: absolute;border-left: 1px solid gray;box-sizing: border-box;top: 2em;bottom: 0;left: 50%;}#sk-3ff1310b-bf08-4384-94e8-f893dd5fa8cc div.sk-serial {display: flex;flex-direction: column;align-items: center;background-color: white;padding-right: 0.2em;padding-left: 0.2em;}#sk-3ff1310b-bf08-4384-94e8-f893dd5fa8cc div.sk-item {z-index: 1;}#sk-3ff1310b-bf08-4384-94e8-f893dd5fa8cc div.sk-parallel {display: flex;align-items: stretch;justify-content: center;background-color: white;}#sk-3ff1310b-bf08-4384-94e8-f893dd5fa8cc div.sk-parallel::before {content: \"\";position: absolute;border-left: 1px solid gray;box-sizing: border-box;top: 2em;bottom: 0;left: 50%;}#sk-3ff1310b-bf08-4384-94e8-f893dd5fa8cc div.sk-parallel-item {display: flex;flex-direction: column;position: relative;background-color: white;}#sk-3ff1310b-bf08-4384-94e8-f893dd5fa8cc div.sk-parallel-item:first-child::after {align-self: flex-end;width: 50%;}#sk-3ff1310b-bf08-4384-94e8-f893dd5fa8cc div.sk-parallel-item:last-child::after {align-self: flex-start;width: 50%;}#sk-3ff1310b-bf08-4384-94e8-f893dd5fa8cc div.sk-parallel-item:only-child::after {width: 0;}#sk-3ff1310b-bf08-4384-94e8-f893dd5fa8cc div.sk-dashed-wrapped {border: 1px dashed gray;margin: 0 0.4em 0.5em 0.4em;box-sizing: border-box;padding-bottom: 0.4em;background-color: white;position: relative;}#sk-3ff1310b-bf08-4384-94e8-f893dd5fa8cc div.sk-label label {font-family: monospace;font-weight: bold;background-color: white;display: inline-block;line-height: 1.2em;}#sk-3ff1310b-bf08-4384-94e8-f893dd5fa8cc div.sk-label-container {position: relative;z-index: 2;text-align: center;}#sk-3ff1310b-bf08-4384-94e8-f893dd5fa8cc div.sk-container {/* jupyter's `normalize.less` sets `[hidden] { display: none; }` but bootstrap.min.css set `[hidden] { display: none !important; }` so we also need the `!important` here to be able to override the default hidden behavior on the sphinx rendered scikit-learn.org. See: https://github.com/scikit-learn/scikit-learn/issues/21755 */display: inline-block !important;position: relative;}#sk-3ff1310b-bf08-4384-94e8-f893dd5fa8cc div.sk-text-repr-fallback {display: none;}</style><div id=\"sk-3ff1310b-bf08-4384-94e8-f893dd5fa8cc\" class=\"sk-top-container\"><div class=\"sk-text-repr-fallback\"><pre>Pipeline(steps=[(&#x27;columntransformer&#x27;,\n",
              "                 ColumnTransformer(transformers=[(&#x27;pipeline-1&#x27;,\n",
              "                                                  Pipeline(steps=[(&#x27;simpleimputer&#x27;,\n",
              "                                                                   SimpleImputer(strategy=&#x27;most_frequent&#x27;)),\n",
              "                                                                  (&#x27;ordinalencoder&#x27;,\n",
              "                                                                   OrdinalEncoder(categories=[[&#x27;Small&#x27;,\n",
              "                                                                                               &#x27;Medium&#x27;,\n",
              "                                                                                               &#x27;Large&#x27;]]))]),\n",
              "                                                  [&#x27;Outlet_Size&#x27;]),\n",
              "                                                 (&#x27;pipeline-2&#x27;,\n",
              "                                                  Pipeline(steps=[(&#x27;simpleimputer&#x27;,\n",
              "                                                                   SimpleImputer()),\n",
              "                                                                  (&#x27;standardscaler&#x27;,\n",
              "                                                                   StandardScaler())]),\n",
              "                                                  &lt;sklearn.compose._column_transformer.make_column_selector object at 0x7f2ce7a8eb50&gt;),\n",
              "                                                 (&#x27;pipeline-3&#x27;,\n",
              "                                                  Pipeline(steps=[(&#x27;simpleimputer&#x27;,\n",
              "                                                                   SimpleImputer(fill_value=&#x27;missing&#x27;,\n",
              "                                                                                 strategy=&#x27;constant&#x27;)),\n",
              "                                                                  (&#x27;onehotencoder&#x27;,\n",
              "                                                                   OneHotEncoder(handle_unknown=&#x27;ignore&#x27;,\n",
              "                                                                                 sparse=False))]),\n",
              "                                                  [&#x27;Item_Fat_Content&#x27;,\n",
              "                                                   &#x27;Item_Type&#x27;,\n",
              "                                                   &#x27;Outlet_Location_Type&#x27;,\n",
              "                                                   &#x27;Outlet_Type&#x27;])])),\n",
              "                (&#x27;linearregression&#x27;, LinearRegression())])</pre><b>Please rerun this cell to show the HTML repr or trust the notebook.</b></div><div class=\"sk-container\" hidden><div class=\"sk-item sk-dashed-wrapped\"><div class=\"sk-label-container\"><div class=\"sk-label sk-toggleable\"><input class=\"sk-toggleable__control sk-hidden--visually\" id=\"322b50cd-b518-4d91-bccc-57bc7b3e39a5\" type=\"checkbox\" ><label for=\"322b50cd-b518-4d91-bccc-57bc7b3e39a5\" class=\"sk-toggleable__label sk-toggleable__label-arrow\">Pipeline</label><div class=\"sk-toggleable__content\"><pre>Pipeline(steps=[(&#x27;columntransformer&#x27;,\n",
              "                 ColumnTransformer(transformers=[(&#x27;pipeline-1&#x27;,\n",
              "                                                  Pipeline(steps=[(&#x27;simpleimputer&#x27;,\n",
              "                                                                   SimpleImputer(strategy=&#x27;most_frequent&#x27;)),\n",
              "                                                                  (&#x27;ordinalencoder&#x27;,\n",
              "                                                                   OrdinalEncoder(categories=[[&#x27;Small&#x27;,\n",
              "                                                                                               &#x27;Medium&#x27;,\n",
              "                                                                                               &#x27;Large&#x27;]]))]),\n",
              "                                                  [&#x27;Outlet_Size&#x27;]),\n",
              "                                                 (&#x27;pipeline-2&#x27;,\n",
              "                                                  Pipeline(steps=[(&#x27;simpleimputer&#x27;,\n",
              "                                                                   SimpleImputer()),\n",
              "                                                                  (&#x27;standardscaler&#x27;,\n",
              "                                                                   StandardScaler())]),\n",
              "                                                  &lt;sklearn.compose._column_transformer.make_column_selector object at 0x7f2ce7a8eb50&gt;),\n",
              "                                                 (&#x27;pipeline-3&#x27;,\n",
              "                                                  Pipeline(steps=[(&#x27;simpleimputer&#x27;,\n",
              "                                                                   SimpleImputer(fill_value=&#x27;missing&#x27;,\n",
              "                                                                                 strategy=&#x27;constant&#x27;)),\n",
              "                                                                  (&#x27;onehotencoder&#x27;,\n",
              "                                                                   OneHotEncoder(handle_unknown=&#x27;ignore&#x27;,\n",
              "                                                                                 sparse=False))]),\n",
              "                                                  [&#x27;Item_Fat_Content&#x27;,\n",
              "                                                   &#x27;Item_Type&#x27;,\n",
              "                                                   &#x27;Outlet_Location_Type&#x27;,\n",
              "                                                   &#x27;Outlet_Type&#x27;])])),\n",
              "                (&#x27;linearregression&#x27;, LinearRegression())])</pre></div></div></div><div class=\"sk-serial\"><div class=\"sk-item sk-dashed-wrapped\"><div class=\"sk-label-container\"><div class=\"sk-label sk-toggleable\"><input class=\"sk-toggleable__control sk-hidden--visually\" id=\"8d00c60f-c98c-4726-a0ce-e8836b5fa586\" type=\"checkbox\" ><label for=\"8d00c60f-c98c-4726-a0ce-e8836b5fa586\" class=\"sk-toggleable__label sk-toggleable__label-arrow\">columntransformer: ColumnTransformer</label><div class=\"sk-toggleable__content\"><pre>ColumnTransformer(transformers=[(&#x27;pipeline-1&#x27;,\n",
              "                                 Pipeline(steps=[(&#x27;simpleimputer&#x27;,\n",
              "                                                  SimpleImputer(strategy=&#x27;most_frequent&#x27;)),\n",
              "                                                 (&#x27;ordinalencoder&#x27;,\n",
              "                                                  OrdinalEncoder(categories=[[&#x27;Small&#x27;,\n",
              "                                                                              &#x27;Medium&#x27;,\n",
              "                                                                              &#x27;Large&#x27;]]))]),\n",
              "                                 [&#x27;Outlet_Size&#x27;]),\n",
              "                                (&#x27;pipeline-2&#x27;,\n",
              "                                 Pipeline(steps=[(&#x27;simpleimputer&#x27;,\n",
              "                                                  SimpleImputer()),\n",
              "                                                 (&#x27;standardscaler&#x27;,\n",
              "                                                  StandardScaler())]),\n",
              "                                 &lt;sklearn.compose._column_transformer.make_column_selector object at 0x7f2ce7a8eb50&gt;),\n",
              "                                (&#x27;pipeline-3&#x27;,\n",
              "                                 Pipeline(steps=[(&#x27;simpleimputer&#x27;,\n",
              "                                                  SimpleImputer(fill_value=&#x27;missing&#x27;,\n",
              "                                                                strategy=&#x27;constant&#x27;)),\n",
              "                                                 (&#x27;onehotencoder&#x27;,\n",
              "                                                  OneHotEncoder(handle_unknown=&#x27;ignore&#x27;,\n",
              "                                                                sparse=False))]),\n",
              "                                 [&#x27;Item_Fat_Content&#x27;, &#x27;Item_Type&#x27;,\n",
              "                                  &#x27;Outlet_Location_Type&#x27;, &#x27;Outlet_Type&#x27;])])</pre></div></div></div><div class=\"sk-parallel\"><div class=\"sk-parallel-item\"><div class=\"sk-item\"><div class=\"sk-label-container\"><div class=\"sk-label sk-toggleable\"><input class=\"sk-toggleable__control sk-hidden--visually\" id=\"eef9d007-b33e-4a55-a2f9-466bab708028\" type=\"checkbox\" ><label for=\"eef9d007-b33e-4a55-a2f9-466bab708028\" class=\"sk-toggleable__label sk-toggleable__label-arrow\">pipeline-1</label><div class=\"sk-toggleable__content\"><pre>[&#x27;Outlet_Size&#x27;]</pre></div></div></div><div class=\"sk-serial\"><div class=\"sk-item\"><div class=\"sk-serial\"><div class=\"sk-item\"><div class=\"sk-estimator sk-toggleable\"><input class=\"sk-toggleable__control sk-hidden--visually\" id=\"da27478f-8673-49a3-8138-48e6d58cd31b\" type=\"checkbox\" ><label for=\"da27478f-8673-49a3-8138-48e6d58cd31b\" class=\"sk-toggleable__label sk-toggleable__label-arrow\">SimpleImputer</label><div class=\"sk-toggleable__content\"><pre>SimpleImputer(strategy=&#x27;most_frequent&#x27;)</pre></div></div></div><div class=\"sk-item\"><div class=\"sk-estimator sk-toggleable\"><input class=\"sk-toggleable__control sk-hidden--visually\" id=\"3b010424-7bd9-4b1b-b8f9-b2d3d565cf8a\" type=\"checkbox\" ><label for=\"3b010424-7bd9-4b1b-b8f9-b2d3d565cf8a\" class=\"sk-toggleable__label sk-toggleable__label-arrow\">OrdinalEncoder</label><div class=\"sk-toggleable__content\"><pre>OrdinalEncoder(categories=[[&#x27;Small&#x27;, &#x27;Medium&#x27;, &#x27;Large&#x27;]])</pre></div></div></div></div></div></div></div></div><div class=\"sk-parallel-item\"><div class=\"sk-item\"><div class=\"sk-label-container\"><div class=\"sk-label sk-toggleable\"><input class=\"sk-toggleable__control sk-hidden--visually\" id=\"580c6f74-455b-464f-90f4-f407514369e7\" type=\"checkbox\" ><label for=\"580c6f74-455b-464f-90f4-f407514369e7\" class=\"sk-toggleable__label sk-toggleable__label-arrow\">pipeline-2</label><div class=\"sk-toggleable__content\"><pre>&lt;sklearn.compose._column_transformer.make_column_selector object at 0x7f2ce7a8eb50&gt;</pre></div></div></div><div class=\"sk-serial\"><div class=\"sk-item\"><div class=\"sk-serial\"><div class=\"sk-item\"><div class=\"sk-estimator sk-toggleable\"><input class=\"sk-toggleable__control sk-hidden--visually\" id=\"970c0e40-bfa4-471c-8133-6df14c881d4a\" type=\"checkbox\" ><label for=\"970c0e40-bfa4-471c-8133-6df14c881d4a\" class=\"sk-toggleable__label sk-toggleable__label-arrow\">SimpleImputer</label><div class=\"sk-toggleable__content\"><pre>SimpleImputer()</pre></div></div></div><div class=\"sk-item\"><div class=\"sk-estimator sk-toggleable\"><input class=\"sk-toggleable__control sk-hidden--visually\" id=\"4c54926a-758a-412d-bd27-661d2cb5404b\" type=\"checkbox\" ><label for=\"4c54926a-758a-412d-bd27-661d2cb5404b\" class=\"sk-toggleable__label sk-toggleable__label-arrow\">StandardScaler</label><div class=\"sk-toggleable__content\"><pre>StandardScaler()</pre></div></div></div></div></div></div></div></div><div class=\"sk-parallel-item\"><div class=\"sk-item\"><div class=\"sk-label-container\"><div class=\"sk-label sk-toggleable\"><input class=\"sk-toggleable__control sk-hidden--visually\" id=\"35693082-ab9c-4692-b944-d6df6b913cb1\" type=\"checkbox\" ><label for=\"35693082-ab9c-4692-b944-d6df6b913cb1\" class=\"sk-toggleable__label sk-toggleable__label-arrow\">pipeline-3</label><div class=\"sk-toggleable__content\"><pre>[&#x27;Item_Fat_Content&#x27;, &#x27;Item_Type&#x27;, &#x27;Outlet_Location_Type&#x27;, &#x27;Outlet_Type&#x27;]</pre></div></div></div><div class=\"sk-serial\"><div class=\"sk-item\"><div class=\"sk-serial\"><div class=\"sk-item\"><div class=\"sk-estimator sk-toggleable\"><input class=\"sk-toggleable__control sk-hidden--visually\" id=\"7aca6495-d93c-4494-a501-c991075c5047\" type=\"checkbox\" ><label for=\"7aca6495-d93c-4494-a501-c991075c5047\" class=\"sk-toggleable__label sk-toggleable__label-arrow\">SimpleImputer</label><div class=\"sk-toggleable__content\"><pre>SimpleImputer(fill_value=&#x27;missing&#x27;, strategy=&#x27;constant&#x27;)</pre></div></div></div><div class=\"sk-item\"><div class=\"sk-estimator sk-toggleable\"><input class=\"sk-toggleable__control sk-hidden--visually\" id=\"d1a78605-03f5-489c-9a2d-b252524aa0ea\" type=\"checkbox\" ><label for=\"d1a78605-03f5-489c-9a2d-b252524aa0ea\" class=\"sk-toggleable__label sk-toggleable__label-arrow\">OneHotEncoder</label><div class=\"sk-toggleable__content\"><pre>OneHotEncoder(handle_unknown=&#x27;ignore&#x27;, sparse=False)</pre></div></div></div></div></div></div></div></div></div></div><div class=\"sk-item\"><div class=\"sk-estimator sk-toggleable\"><input class=\"sk-toggleable__control sk-hidden--visually\" id=\"2b98050d-6fad-472b-b085-dcbe99f2c2fe\" type=\"checkbox\" ><label for=\"2b98050d-6fad-472b-b085-dcbe99f2c2fe\" class=\"sk-toggleable__label sk-toggleable__label-arrow\">LinearRegression</label><div class=\"sk-toggleable__content\"><pre>LinearRegression()</pre></div></div></div></div></div></div></div>"
            ]
          },
          "metadata": {},
          "execution_count": 30
        }
      ]
    },
    {
      "cell_type": "markdown",
      "source": [
        "###Eamine the prediction and ERRORS"
      ],
      "metadata": {
        "id": "TBWBd1sRYOn1"
      }
    },
    {
      "cell_type": "code",
      "source": [
        "train_pred = reg_pipe.predict(X_train)\n",
        "test_pred = reg_pipe.predict(X_test)\n",
        "test_pred[:5]"
      ],
      "metadata": {
        "id": "RrBsz_UbUkxD",
        "outputId": "c173361e-106b-4cb2-f9dc-324db2407f82",
        "colab": {
          "base_uri": "https://localhost:8080/"
        }
      },
      "execution_count": 31,
      "outputs": [
        {
          "output_type": "execute_result",
          "data": {
            "text/plain": [
              "array([1344.  ,  789.25,  826.5 , 4233.5 , 3274.  ])"
            ]
          },
          "metadata": {},
          "execution_count": 31
        }
      ]
    },
    {
      "cell_type": "code",
      "source": [
        "predictions_df =X_test.copy()\n",
        "predictions_df['True Midan Price']=y_test\n",
        "predictions_df['Pridiction Median Price']= test_pred\n",
        "predictions_df['Errors']= test_pred - y_test\n",
        "predictions_df.head()"
      ],
      "metadata": {
        "id": "02x5sbNmZD3y",
        "outputId": "3a0ddf18-6d81-4ecd-91d6-012e215612af",
        "colab": {
          "base_uri": "https://localhost:8080/",
          "height": 0
        }
      },
      "execution_count": 32,
      "outputs": [
        {
          "output_type": "execute_result",
          "data": {
            "text/plain": [
              "      Item_Weight Item_Fat_Content  Item_Visibility           Item_Type  \\\n",
              "7503       14.300          Low Fat         0.026300        Frozen Foods   \n",
              "2957        7.930          Low Fat         0.071136  Health and Hygiene   \n",
              "7031       14.500          Regular         0.041313              Canned   \n",
              "1084          NaN          Regular         0.044767         Soft Drinks   \n",
              "856        10.195          Regular         0.012456                Meat   \n",
              "\n",
              "      Item_MRP  Outlet_Establishment_Year Outlet_Size Outlet_Location_Type  \\\n",
              "7503   79.4302                       1987       Large               Tier 3   \n",
              "2957   42.7086                       1997       Small               Tier 1   \n",
              "7031   42.0454                       1999      Medium               Tier 1   \n",
              "1084  173.7054                       1985      Medium               Tier 3   \n",
              "856   197.5110                       2004       Small               Tier 2   \n",
              "\n",
              "            Outlet_Type  True Midan Price  Pridiction Median Price     Errors  \n",
              "7503  Supermarket Type1         1743.0644                  1344.00  -399.0644  \n",
              "2957  Supermarket Type1          356.8688                   789.25   432.3812  \n",
              "7031  Supermarket Type1          377.5086                   826.50   448.9914  \n",
              "1084  Supermarket Type3         5778.4782                  4233.50 -1544.9782  \n",
              "856   Supermarket Type1         2356.9320                  3274.00   917.0680  "
            ],
            "text/html": [
              "\n",
              "  <div id=\"df-100f2409-ff19-4877-b0f8-0ecc6143f125\">\n",
              "    <div class=\"colab-df-container\">\n",
              "      <div>\n",
              "<style scoped>\n",
              "    .dataframe tbody tr th:only-of-type {\n",
              "        vertical-align: middle;\n",
              "    }\n",
              "\n",
              "    .dataframe tbody tr th {\n",
              "        vertical-align: top;\n",
              "    }\n",
              "\n",
              "    .dataframe thead th {\n",
              "        text-align: right;\n",
              "    }\n",
              "</style>\n",
              "<table border=\"1\" class=\"dataframe\">\n",
              "  <thead>\n",
              "    <tr style=\"text-align: right;\">\n",
              "      <th></th>\n",
              "      <th>Item_Weight</th>\n",
              "      <th>Item_Fat_Content</th>\n",
              "      <th>Item_Visibility</th>\n",
              "      <th>Item_Type</th>\n",
              "      <th>Item_MRP</th>\n",
              "      <th>Outlet_Establishment_Year</th>\n",
              "      <th>Outlet_Size</th>\n",
              "      <th>Outlet_Location_Type</th>\n",
              "      <th>Outlet_Type</th>\n",
              "      <th>True Midan Price</th>\n",
              "      <th>Pridiction Median Price</th>\n",
              "      <th>Errors</th>\n",
              "    </tr>\n",
              "  </thead>\n",
              "  <tbody>\n",
              "    <tr>\n",
              "      <th>7503</th>\n",
              "      <td>14.300</td>\n",
              "      <td>Low Fat</td>\n",
              "      <td>0.026300</td>\n",
              "      <td>Frozen Foods</td>\n",
              "      <td>79.4302</td>\n",
              "      <td>1987</td>\n",
              "      <td>Large</td>\n",
              "      <td>Tier 3</td>\n",
              "      <td>Supermarket Type1</td>\n",
              "      <td>1743.0644</td>\n",
              "      <td>1344.00</td>\n",
              "      <td>-399.0644</td>\n",
              "    </tr>\n",
              "    <tr>\n",
              "      <th>2957</th>\n",
              "      <td>7.930</td>\n",
              "      <td>Low Fat</td>\n",
              "      <td>0.071136</td>\n",
              "      <td>Health and Hygiene</td>\n",
              "      <td>42.7086</td>\n",
              "      <td>1997</td>\n",
              "      <td>Small</td>\n",
              "      <td>Tier 1</td>\n",
              "      <td>Supermarket Type1</td>\n",
              "      <td>356.8688</td>\n",
              "      <td>789.25</td>\n",
              "      <td>432.3812</td>\n",
              "    </tr>\n",
              "    <tr>\n",
              "      <th>7031</th>\n",
              "      <td>14.500</td>\n",
              "      <td>Regular</td>\n",
              "      <td>0.041313</td>\n",
              "      <td>Canned</td>\n",
              "      <td>42.0454</td>\n",
              "      <td>1999</td>\n",
              "      <td>Medium</td>\n",
              "      <td>Tier 1</td>\n",
              "      <td>Supermarket Type1</td>\n",
              "      <td>377.5086</td>\n",
              "      <td>826.50</td>\n",
              "      <td>448.9914</td>\n",
              "    </tr>\n",
              "    <tr>\n",
              "      <th>1084</th>\n",
              "      <td>NaN</td>\n",
              "      <td>Regular</td>\n",
              "      <td>0.044767</td>\n",
              "      <td>Soft Drinks</td>\n",
              "      <td>173.7054</td>\n",
              "      <td>1985</td>\n",
              "      <td>Medium</td>\n",
              "      <td>Tier 3</td>\n",
              "      <td>Supermarket Type3</td>\n",
              "      <td>5778.4782</td>\n",
              "      <td>4233.50</td>\n",
              "      <td>-1544.9782</td>\n",
              "    </tr>\n",
              "    <tr>\n",
              "      <th>856</th>\n",
              "      <td>10.195</td>\n",
              "      <td>Regular</td>\n",
              "      <td>0.012456</td>\n",
              "      <td>Meat</td>\n",
              "      <td>197.5110</td>\n",
              "      <td>2004</td>\n",
              "      <td>Small</td>\n",
              "      <td>Tier 2</td>\n",
              "      <td>Supermarket Type1</td>\n",
              "      <td>2356.9320</td>\n",
              "      <td>3274.00</td>\n",
              "      <td>917.0680</td>\n",
              "    </tr>\n",
              "  </tbody>\n",
              "</table>\n",
              "</div>\n",
              "      <button class=\"colab-df-convert\" onclick=\"convertToInteractive('df-100f2409-ff19-4877-b0f8-0ecc6143f125')\"\n",
              "              title=\"Convert this dataframe to an interactive table.\"\n",
              "              style=\"display:none;\">\n",
              "        \n",
              "  <svg xmlns=\"http://www.w3.org/2000/svg\" height=\"24px\"viewBox=\"0 0 24 24\"\n",
              "       width=\"24px\">\n",
              "    <path d=\"M0 0h24v24H0V0z\" fill=\"none\"/>\n",
              "    <path d=\"M18.56 5.44l.94 2.06.94-2.06 2.06-.94-2.06-.94-.94-2.06-.94 2.06-2.06.94zm-11 1L8.5 8.5l.94-2.06 2.06-.94-2.06-.94L8.5 2.5l-.94 2.06-2.06.94zm10 10l.94 2.06.94-2.06 2.06-.94-2.06-.94-.94-2.06-.94 2.06-2.06.94z\"/><path d=\"M17.41 7.96l-1.37-1.37c-.4-.4-.92-.59-1.43-.59-.52 0-1.04.2-1.43.59L10.3 9.45l-7.72 7.72c-.78.78-.78 2.05 0 2.83L4 21.41c.39.39.9.59 1.41.59.51 0 1.02-.2 1.41-.59l7.78-7.78 2.81-2.81c.8-.78.8-2.07 0-2.86zM5.41 20L4 18.59l7.72-7.72 1.47 1.35L5.41 20z\"/>\n",
              "  </svg>\n",
              "      </button>\n",
              "      \n",
              "  <style>\n",
              "    .colab-df-container {\n",
              "      display:flex;\n",
              "      flex-wrap:wrap;\n",
              "      gap: 12px;\n",
              "    }\n",
              "\n",
              "    .colab-df-convert {\n",
              "      background-color: #E8F0FE;\n",
              "      border: none;\n",
              "      border-radius: 50%;\n",
              "      cursor: pointer;\n",
              "      display: none;\n",
              "      fill: #1967D2;\n",
              "      height: 32px;\n",
              "      padding: 0 0 0 0;\n",
              "      width: 32px;\n",
              "    }\n",
              "\n",
              "    .colab-df-convert:hover {\n",
              "      background-color: #E2EBFA;\n",
              "      box-shadow: 0px 1px 2px rgba(60, 64, 67, 0.3), 0px 1px 3px 1px rgba(60, 64, 67, 0.15);\n",
              "      fill: #174EA6;\n",
              "    }\n",
              "\n",
              "    [theme=dark] .colab-df-convert {\n",
              "      background-color: #3B4455;\n",
              "      fill: #D2E3FC;\n",
              "    }\n",
              "\n",
              "    [theme=dark] .colab-df-convert:hover {\n",
              "      background-color: #434B5C;\n",
              "      box-shadow: 0px 1px 3px 1px rgba(0, 0, 0, 0.15);\n",
              "      filter: drop-shadow(0px 1px 2px rgba(0, 0, 0, 0.3));\n",
              "      fill: #FFFFFF;\n",
              "    }\n",
              "  </style>\n",
              "\n",
              "      <script>\n",
              "        const buttonEl =\n",
              "          document.querySelector('#df-100f2409-ff19-4877-b0f8-0ecc6143f125 button.colab-df-convert');\n",
              "        buttonEl.style.display =\n",
              "          google.colab.kernel.accessAllowed ? 'block' : 'none';\n",
              "\n",
              "        async function convertToInteractive(key) {\n",
              "          const element = document.querySelector('#df-100f2409-ff19-4877-b0f8-0ecc6143f125');\n",
              "          const dataTable =\n",
              "            await google.colab.kernel.invokeFunction('convertToInteractive',\n",
              "                                                     [key], {});\n",
              "          if (!dataTable) return;\n",
              "\n",
              "          const docLinkHtml = 'Like what you see? Visit the ' +\n",
              "            '<a target=\"_blank\" href=https://colab.research.google.com/notebooks/data_table.ipynb>data table notebook</a>'\n",
              "            + ' to learn more about interactive tables.';\n",
              "          element.innerHTML = '';\n",
              "          dataTable['output_type'] = 'display_data';\n",
              "          await google.colab.output.renderOutput(dataTable, element);\n",
              "          const docLink = document.createElement('div');\n",
              "          docLink.innerHTML = docLinkHtml;\n",
              "          element.appendChild(docLink);\n",
              "        }\n",
              "      </script>\n",
              "    </div>\n",
              "  </div>\n",
              "  "
            ]
          },
          "metadata": {},
          "execution_count": 32
        }
      ]
    },
    {
      "cell_type": "markdown",
      "source": [
        "###Evaluate the performance of your model based on R^2."
      ],
      "metadata": {
        "id": "KDgcm4CCObUP"
      }
    },
    {
      "cell_type": "code",
      "source": [
        "## Measuring model performance R^2\n",
        "print(f\"Train R-Squared: { round( reg_pipe.score(X_train, y_train),3) }\")\n",
        "print(f\"Test R-Squared: { round( reg_pipe.score(X_test, y_test),3) }\")"
      ],
      "metadata": {
        "id": "9WNHOzE3OkFA",
        "outputId": "64785b18-577b-47b6-a3f0-0f34a9162dad",
        "colab": {
          "base_uri": "https://localhost:8080/"
        }
      },
      "execution_count": 33,
      "outputs": [
        {
          "output_type": "stream",
          "name": "stdout",
          "text": [
            "Train R-Squared: 0.561\n",
            "Test R-Squared: 0.566\n"
          ]
        }
      ]
    },
    {
      "cell_type": "markdown",
      "source": [
        "This module is 56% fitting the data between the training and the testing "
      ],
      "metadata": {
        "id": "BCoEYGTJeAa3"
      }
    },
    {
      "cell_type": "markdown",
      "source": [
        "###Evaluate the performance of your model based on RMSE."
      ],
      "metadata": {
        "id": "8D7pMxZxPNYk"
      }
    },
    {
      "cell_type": "code",
      "source": [
        "train_RMSE = np.sqrt(np.mean(np.abs(train_pred - y_train)**2))\n",
        "test_RMSE = np.sqrt(np.mean(np.abs(test_pred - y_test)**2))\n",
        "print(f'Training RMSE: {train_RMSE}')\n",
        "print(f'Testing RMSE: {test_RMSE}')"
      ],
      "metadata": {
        "id": "l_ol9VTzPSWp",
        "outputId": "c70c6ad3-5172-404b-e597-58c70902fbe5",
        "colab": {
          "base_uri": "https://localhost:8080/"
        }
      },
      "execution_count": 34,
      "outputs": [
        {
          "output_type": "stream",
          "name": "stdout",
          "text": [
            "Training RMSE: 1140.3738421485757\n",
            "Testing RMSE: 1094.446732618087\n"
          ]
        }
      ]
    },
    {
      "cell_type": "markdown",
      "source": [
        "This module have larger errors "
      ],
      "metadata": {
        "id": "kgFVfSMteCWy"
      }
    },
    {
      "cell_type": "markdown",
      "source": [
        "# 2.build a regression tree model to predict sales"
      ],
      "metadata": {
        "id": "f7UeU2ZmeEjV"
      }
    },
    {
      "cell_type": "markdown",
      "source": [
        "##Decision Tree Regressor"
      ],
      "metadata": {
        "id": "TjVRHO7o-o1U"
      }
    },
    {
      "cell_type": "code",
      "source": [
        "from sklearn.tree import DecisionTreeRegressor"
      ],
      "metadata": {
        "id": "2gKlYNgoeSn8"
      },
      "execution_count": 35,
      "outputs": []
    },
    {
      "cell_type": "code",
      "source": [
        "dec_tree = DecisionTreeRegressor(random_state=42)\n",
        "train_x = pd.get_dummies(X_train)"
      ],
      "metadata": {
        "id": "scQcyCrQf2d4"
      },
      "execution_count": 36,
      "outputs": []
    },
    {
      "cell_type": "code",
      "source": [
        "X_train_processed = preprocessor.transform(X_train)\n",
        "X_test_processed = preprocessor.transform(X_test)"
      ],
      "metadata": {
        "id": "pGvaAQ9zf5cy"
      },
      "execution_count": 37,
      "outputs": []
    },
    {
      "cell_type": "code",
      "source": [
        "dec_tree.fit(X_train_processed, y_train)"
      ],
      "metadata": {
        "id": "SXhnWdyojO0M",
        "outputId": "00a73dd5-1b6d-48be-f4d7-67275fb10633",
        "colab": {
          "base_uri": "https://localhost:8080/",
          "height": 75
        }
      },
      "execution_count": 38,
      "outputs": [
        {
          "output_type": "execute_result",
          "data": {
            "text/plain": [
              "DecisionTreeRegressor(random_state=42)"
            ],
            "text/html": [
              "<style>#sk-980fa685-4677-48a7-a9dd-5908c40430a2 {color: black;background-color: white;}#sk-980fa685-4677-48a7-a9dd-5908c40430a2 pre{padding: 0;}#sk-980fa685-4677-48a7-a9dd-5908c40430a2 div.sk-toggleable {background-color: white;}#sk-980fa685-4677-48a7-a9dd-5908c40430a2 label.sk-toggleable__label {cursor: pointer;display: block;width: 100%;margin-bottom: 0;padding: 0.3em;box-sizing: border-box;text-align: center;}#sk-980fa685-4677-48a7-a9dd-5908c40430a2 label.sk-toggleable__label-arrow:before {content: \"▸\";float: left;margin-right: 0.25em;color: #696969;}#sk-980fa685-4677-48a7-a9dd-5908c40430a2 label.sk-toggleable__label-arrow:hover:before {color: black;}#sk-980fa685-4677-48a7-a9dd-5908c40430a2 div.sk-estimator:hover label.sk-toggleable__label-arrow:before {color: black;}#sk-980fa685-4677-48a7-a9dd-5908c40430a2 div.sk-toggleable__content {max-height: 0;max-width: 0;overflow: hidden;text-align: left;background-color: #f0f8ff;}#sk-980fa685-4677-48a7-a9dd-5908c40430a2 div.sk-toggleable__content pre {margin: 0.2em;color: black;border-radius: 0.25em;background-color: #f0f8ff;}#sk-980fa685-4677-48a7-a9dd-5908c40430a2 input.sk-toggleable__control:checked~div.sk-toggleable__content {max-height: 200px;max-width: 100%;overflow: auto;}#sk-980fa685-4677-48a7-a9dd-5908c40430a2 input.sk-toggleable__control:checked~label.sk-toggleable__label-arrow:before {content: \"▾\";}#sk-980fa685-4677-48a7-a9dd-5908c40430a2 div.sk-estimator input.sk-toggleable__control:checked~label.sk-toggleable__label {background-color: #d4ebff;}#sk-980fa685-4677-48a7-a9dd-5908c40430a2 div.sk-label input.sk-toggleable__control:checked~label.sk-toggleable__label {background-color: #d4ebff;}#sk-980fa685-4677-48a7-a9dd-5908c40430a2 input.sk-hidden--visually {border: 0;clip: rect(1px 1px 1px 1px);clip: rect(1px, 1px, 1px, 1px);height: 1px;margin: -1px;overflow: hidden;padding: 0;position: absolute;width: 1px;}#sk-980fa685-4677-48a7-a9dd-5908c40430a2 div.sk-estimator {font-family: monospace;background-color: #f0f8ff;border: 1px dotted black;border-radius: 0.25em;box-sizing: border-box;margin-bottom: 0.5em;}#sk-980fa685-4677-48a7-a9dd-5908c40430a2 div.sk-estimator:hover {background-color: #d4ebff;}#sk-980fa685-4677-48a7-a9dd-5908c40430a2 div.sk-parallel-item::after {content: \"\";width: 100%;border-bottom: 1px solid gray;flex-grow: 1;}#sk-980fa685-4677-48a7-a9dd-5908c40430a2 div.sk-label:hover label.sk-toggleable__label {background-color: #d4ebff;}#sk-980fa685-4677-48a7-a9dd-5908c40430a2 div.sk-serial::before {content: \"\";position: absolute;border-left: 1px solid gray;box-sizing: border-box;top: 2em;bottom: 0;left: 50%;}#sk-980fa685-4677-48a7-a9dd-5908c40430a2 div.sk-serial {display: flex;flex-direction: column;align-items: center;background-color: white;padding-right: 0.2em;padding-left: 0.2em;}#sk-980fa685-4677-48a7-a9dd-5908c40430a2 div.sk-item {z-index: 1;}#sk-980fa685-4677-48a7-a9dd-5908c40430a2 div.sk-parallel {display: flex;align-items: stretch;justify-content: center;background-color: white;}#sk-980fa685-4677-48a7-a9dd-5908c40430a2 div.sk-parallel::before {content: \"\";position: absolute;border-left: 1px solid gray;box-sizing: border-box;top: 2em;bottom: 0;left: 50%;}#sk-980fa685-4677-48a7-a9dd-5908c40430a2 div.sk-parallel-item {display: flex;flex-direction: column;position: relative;background-color: white;}#sk-980fa685-4677-48a7-a9dd-5908c40430a2 div.sk-parallel-item:first-child::after {align-self: flex-end;width: 50%;}#sk-980fa685-4677-48a7-a9dd-5908c40430a2 div.sk-parallel-item:last-child::after {align-self: flex-start;width: 50%;}#sk-980fa685-4677-48a7-a9dd-5908c40430a2 div.sk-parallel-item:only-child::after {width: 0;}#sk-980fa685-4677-48a7-a9dd-5908c40430a2 div.sk-dashed-wrapped {border: 1px dashed gray;margin: 0 0.4em 0.5em 0.4em;box-sizing: border-box;padding-bottom: 0.4em;background-color: white;position: relative;}#sk-980fa685-4677-48a7-a9dd-5908c40430a2 div.sk-label label {font-family: monospace;font-weight: bold;background-color: white;display: inline-block;line-height: 1.2em;}#sk-980fa685-4677-48a7-a9dd-5908c40430a2 div.sk-label-container {position: relative;z-index: 2;text-align: center;}#sk-980fa685-4677-48a7-a9dd-5908c40430a2 div.sk-container {/* jupyter's `normalize.less` sets `[hidden] { display: none; }` but bootstrap.min.css set `[hidden] { display: none !important; }` so we also need the `!important` here to be able to override the default hidden behavior on the sphinx rendered scikit-learn.org. See: https://github.com/scikit-learn/scikit-learn/issues/21755 */display: inline-block !important;position: relative;}#sk-980fa685-4677-48a7-a9dd-5908c40430a2 div.sk-text-repr-fallback {display: none;}</style><div id=\"sk-980fa685-4677-48a7-a9dd-5908c40430a2\" class=\"sk-top-container\"><div class=\"sk-text-repr-fallback\"><pre>DecisionTreeRegressor(random_state=42)</pre><b>Please rerun this cell to show the HTML repr or trust the notebook.</b></div><div class=\"sk-container\" hidden><div class=\"sk-item\"><div class=\"sk-estimator sk-toggleable\"><input class=\"sk-toggleable__control sk-hidden--visually\" id=\"d8427a94-e666-4228-8bda-ad168a69627d\" type=\"checkbox\" checked><label for=\"d8427a94-e666-4228-8bda-ad168a69627d\" class=\"sk-toggleable__label sk-toggleable__label-arrow\">DecisionTreeRegressor</label><div class=\"sk-toggleable__content\"><pre>DecisionTreeRegressor(random_state=42)</pre></div></div></div></div></div>"
            ]
          },
          "metadata": {},
          "execution_count": 38
        }
      ]
    },
    {
      "cell_type": "code",
      "source": [
        "train_preds = dec_tree.predict(X_train_processed)\n",
        "test_preds = dec_tree.predict(X_test_processed)"
      ],
      "metadata": {
        "id": "zl7uB-MSk01P"
      },
      "execution_count": 39,
      "outputs": []
    },
    {
      "cell_type": "code",
      "source": [
        "train_score = dec_tree.score(X_train_processed, y_train)\n",
        "test_score = dec_tree.score(X_test_processed, y_test)\n",
        "print(f'Training R2 Score: {train_score}')\n",
        "print(f'Testing R2 Score: {test_score}')"
      ],
      "metadata": {
        "id": "F7QYIK9kk5hX",
        "outputId": "75fa0d36-333c-457f-ce9e-4c8231809e6d",
        "colab": {
          "base_uri": "https://localhost:8080/"
        }
      },
      "execution_count": 40,
      "outputs": [
        {
          "output_type": "stream",
          "name": "stdout",
          "text": [
            "Training R2 Score: 1.0\n",
            "Testing R2 Score: 0.17057656596427562\n"
          ]
        }
      ]
    },
    {
      "cell_type": "markdown",
      "source": [
        "This module has the best result for the training data but does badly in testing the data its overfitting"
      ],
      "metadata": {
        "id": "o3Vd7KglAk7F"
      }
    },
    {
      "cell_type": "code",
      "source": [
        "train_RMSE = np.sqrt(np.mean(np.abs(train_preds - y_train)**2))\n",
        "test_RMSE = np.sqrt(np.mean(np.abs(test_preds - y_test)**2))\n",
        "print(f'Training RMSE: {train_RMSE}')\n",
        "print(f'Testing RMSE: {test_RMSE}')"
      ],
      "metadata": {
        "id": "HUovqXH4k83Q",
        "outputId": "8083a8ba-40a1-414d-e7b1-fb6895cba85d",
        "colab": {
          "base_uri": "https://localhost:8080/"
        }
      },
      "execution_count": 41,
      "outputs": [
        {
          "output_type": "stream",
          "name": "stdout",
          "text": [
            "Training RMSE: 5.50728349323243e-15\n",
            "Testing RMSE: 1512.7327643966612\n"
          ]
        }
      ]
    },
    {
      "cell_type": "markdown",
      "source": [
        "###The traning data have a less errors than the testing "
      ],
      "metadata": {
        "id": "l66GVPIpBnvy"
      }
    },
    {
      "cell_type": "markdown",
      "source": [],
      "metadata": {
        "id": "wfD-hr5YGuej"
      }
    },
    {
      "cell_type": "markdown",
      "source": [
        "##Tune Your Model"
      ],
      "metadata": {
        "id": "tJ5wWbvWrzuf"
      }
    },
    {
      "cell_type": "code",
      "source": [
        "import matplotlib.pyplot as plt \n"
      ],
      "metadata": {
        "id": "tCc63fhc84ZH"
      },
      "execution_count": 43,
      "outputs": []
    },
    {
      "cell_type": "code",
      "source": [
        "est_depths =dec_tree.get_depth()\n",
        "est_depths"
      ],
      "metadata": {
        "id": "3RWs2gjslLOi",
        "outputId": "930e2e6a-b002-4ae6-d217-483ce824fdba",
        "colab": {
          "base_uri": "https://localhost:8080/"
        }
      },
      "execution_count": 48,
      "outputs": [
        {
          "output_type": "execute_result",
          "data": {
            "text/plain": [
              "40"
            ]
          },
          "metadata": {},
          "execution_count": 48
        }
      ]
    },
    {
      "cell_type": "code",
      "source": [],
      "metadata": {
        "id": "b1ssb1sIBpcO"
      },
      "execution_count": null,
      "outputs": []
    },
    {
      "cell_type": "code",
      "source": [
        "depths = range(1, est_depths)\n",
        "scores = pd.DataFrame(index=depths, columns=['Test Score'])\n",
        "for depth in depths:    \n",
        "   model = DecisionTreeRegressor(max_depth=depth)\n",
        "   model.fit(X_train_processed, y_train)\n",
        "   scores.loc[depth, 'Train Score'] = model.score(X_train_processed, y_train)\n",
        "   scores.loc[depth, 'Test Score'] = model.score(X_test_processed, y_test)\n",
        "   scores.head()"
      ],
      "metadata": {
        "id": "6Pie14UP9onM"
      },
      "execution_count": 55,
      "outputs": []
    },
    {
      "cell_type": "code",
      "source": [
        "plt.plot(scores['Test Score'])"
      ],
      "metadata": {
        "id": "cizQNdrt9M7p",
        "outputId": "b06a5187-b536-4dec-9e8e-48d7d133112f",
        "colab": {
          "base_uri": "https://localhost:8080/",
          "height": 283
        }
      },
      "execution_count": 56,
      "outputs": [
        {
          "output_type": "execute_result",
          "data": {
            "text/plain": [
              "[<matplotlib.lines.Line2D at 0x7f2ce21de730>]"
            ]
          },
          "metadata": {},
          "execution_count": 56
        },
        {
          "output_type": "display_data",
          "data": {
            "text/plain": [
              "<Figure size 432x288 with 1 Axes>"
            ],
            "image/png": "[encoded data removed]"
          },
          "metadata": {
            "needs_background": "light"
          }
        }
      ]
    },
    {
      "cell_type": "markdown",
      "source": [
        "##Random Forests"
      ],
      "metadata": {
        "id": "F0FSLMEg-jpp"
      }
    },
    {
      "cell_type": "code",
      "source": [
        "# Import random forest Regressor\n",
        "from sklearn.ensemble import RandomForestRegressor"
      ],
      "metadata": {
        "id": "MLhopzd--un9"
      },
      "execution_count": 57,
      "outputs": []
    },
    {
      "cell_type": "code",
      "source": [
        "rf = RandomForestRegressor(random_state = 42)"
      ],
      "metadata": {
        "id": "KAZN3ogW_Etq"
      },
      "execution_count": 58,
      "outputs": []
    },
    {
      "cell_type": "code",
      "source": [
        "rf.fit(X_train_processed,y_train)"
      ],
      "metadata": {
        "id": "sKpuE0oS_HLS",
        "outputId": "b42f3c1a-f43a-4993-f081-ec8e91acec62",
        "colab": {
          "base_uri": "https://localhost:8080/",
          "height": 75
        }
      },
      "execution_count": 60,
      "outputs": [
        {
          "output_type": "execute_result",
          "data": {
            "text/plain": [
              "RandomForestRegressor(random_state=42)"
            ],
            "text/html": [
              "<style>#sk-b6436777-ac83-47ed-a60d-1e7185f633e4 {color: black;background-color: white;}#sk-b6436777-ac83-47ed-a60d-1e7185f633e4 pre{padding: 0;}#sk-b6436777-ac83-47ed-a60d-1e7185f633e4 div.sk-toggleable {background-color: white;}#sk-b6436777-ac83-47ed-a60d-1e7185f633e4 label.sk-toggleable__label {cursor: pointer;display: block;width: 100%;margin-bottom: 0;padding: 0.3em;box-sizing: border-box;text-align: center;}#sk-b6436777-ac83-47ed-a60d-1e7185f633e4 label.sk-toggleable__label-arrow:before {content: \"▸\";float: left;margin-right: 0.25em;color: #696969;}#sk-b6436777-ac83-47ed-a60d-1e7185f633e4 label.sk-toggleable__label-arrow:hover:before {color: black;}#sk-b6436777-ac83-47ed-a60d-1e7185f633e4 div.sk-estimator:hover label.sk-toggleable__label-arrow:before {color: black;}#sk-b6436777-ac83-47ed-a60d-1e7185f633e4 div.sk-toggleable__content {max-height: 0;max-width: 0;overflow: hidden;text-align: left;background-color: #f0f8ff;}#sk-b6436777-ac83-47ed-a60d-1e7185f633e4 div.sk-toggleable__content pre {margin: 0.2em;color: black;border-radius: 0.25em;background-color: #f0f8ff;}#sk-b6436777-ac83-47ed-a60d-1e7185f633e4 input.sk-toggleable__control:checked~div.sk-toggleable__content {max-height: 200px;max-width: 100%;overflow: auto;}#sk-b6436777-ac83-47ed-a60d-1e7185f633e4 input.sk-toggleable__control:checked~label.sk-toggleable__label-arrow:before {content: \"▾\";}#sk-b6436777-ac83-47ed-a60d-1e7185f633e4 div.sk-estimator input.sk-toggleable__control:checked~label.sk-toggleable__label {background-color: #d4ebff;}#sk-b6436777-ac83-47ed-a60d-1e7185f633e4 div.sk-label input.sk-toggleable__control:checked~label.sk-toggleable__label {background-color: #d4ebff;}#sk-b6436777-ac83-47ed-a60d-1e7185f633e4 input.sk-hidden--visually {border: 0;clip: rect(1px 1px 1px 1px);clip: rect(1px, 1px, 1px, 1px);height: 1px;margin: -1px;overflow: hidden;padding: 0;position: absolute;width: 1px;}#sk-b6436777-ac83-47ed-a60d-1e7185f633e4 div.sk-estimator {font-family: monospace;background-color: #f0f8ff;border: 1px dotted black;border-radius: 0.25em;box-sizing: border-box;margin-bottom: 0.5em;}#sk-b6436777-ac83-47ed-a60d-1e7185f633e4 div.sk-estimator:hover {background-color: #d4ebff;}#sk-b6436777-ac83-47ed-a60d-1e7185f633e4 div.sk-parallel-item::after {content: \"\";width: 100%;border-bottom: 1px solid gray;flex-grow: 1;}#sk-b6436777-ac83-47ed-a60d-1e7185f633e4 div.sk-label:hover label.sk-toggleable__label {background-color: #d4ebff;}#sk-b6436777-ac83-47ed-a60d-1e7185f633e4 div.sk-serial::before {content: \"\";position: absolute;border-left: 1px solid gray;box-sizing: border-box;top: 2em;bottom: 0;left: 50%;}#sk-b6436777-ac83-47ed-a60d-1e7185f633e4 div.sk-serial {display: flex;flex-direction: column;align-items: center;background-color: white;padding-right: 0.2em;padding-left: 0.2em;}#sk-b6436777-ac83-47ed-a60d-1e7185f633e4 div.sk-item {z-index: 1;}#sk-b6436777-ac83-47ed-a60d-1e7185f633e4 div.sk-parallel {display: flex;align-items: stretch;justify-content: center;background-color: white;}#sk-b6436777-ac83-47ed-a60d-1e7185f633e4 div.sk-parallel::before {content: \"\";position: absolute;border-left: 1px solid gray;box-sizing: border-box;top: 2em;bottom: 0;left: 50%;}#sk-b6436777-ac83-47ed-a60d-1e7185f633e4 div.sk-parallel-item {display: flex;flex-direction: column;position: relative;background-color: white;}#sk-b6436777-ac83-47ed-a60d-1e7185f633e4 div.sk-parallel-item:first-child::after {align-self: flex-end;width: 50%;}#sk-b6436777-ac83-47ed-a60d-1e7185f633e4 div.sk-parallel-item:last-child::after {align-self: flex-start;width: 50%;}#sk-b6436777-ac83-47ed-a60d-1e7185f633e4 div.sk-parallel-item:only-child::after {width: 0;}#sk-b6436777-ac83-47ed-a60d-1e7185f633e4 div.sk-dashed-wrapped {border: 1px dashed gray;margin: 0 0.4em 0.5em 0.4em;box-sizing: border-box;padding-bottom: 0.4em;background-color: white;position: relative;}#sk-b6436777-ac83-47ed-a60d-1e7185f633e4 div.sk-label label {font-family: monospace;font-weight: bold;background-color: white;display: inline-block;line-height: 1.2em;}#sk-b6436777-ac83-47ed-a60d-1e7185f633e4 div.sk-label-container {position: relative;z-index: 2;text-align: center;}#sk-b6436777-ac83-47ed-a60d-1e7185f633e4 div.sk-container {/* jupyter's `normalize.less` sets `[hidden] { display: none; }` but bootstrap.min.css set `[hidden] { display: none !important; }` so we also need the `!important` here to be able to override the default hidden behavior on the sphinx rendered scikit-learn.org. See: https://github.com/scikit-learn/scikit-learn/issues/21755 */display: inline-block !important;position: relative;}#sk-b6436777-ac83-47ed-a60d-1e7185f633e4 div.sk-text-repr-fallback {display: none;}</style><div id=\"sk-b6436777-ac83-47ed-a60d-1e7185f633e4\" class=\"sk-top-container\"><div class=\"sk-text-repr-fallback\"><pre>RandomForestRegressor(random_state=42)</pre><b>Please rerun this cell to show the HTML repr or trust the notebook.</b></div><div class=\"sk-container\" hidden><div class=\"sk-item\"><div class=\"sk-estimator sk-toggleable\"><input class=\"sk-toggleable__control sk-hidden--visually\" id=\"816c1a68-9d25-4d92-b1b4-629943d27dbb\" type=\"checkbox\" checked><label for=\"816c1a68-9d25-4d92-b1b4-629943d27dbb\" class=\"sk-toggleable__label sk-toggleable__label-arrow\">RandomForestRegressor</label><div class=\"sk-toggleable__content\"><pre>RandomForestRegressor(random_state=42)</pre></div></div></div></div></div>"
            ]
          },
          "metadata": {},
          "execution_count": 60
        }
      ]
    },
    {
      "cell_type": "code",
      "source": [
        "rf.predict(X_train_processed)\n",
        "train_preds = rf.predict(X_train_processed)\n",
        "test_preds = rf.predict(X_test_processed)"
      ],
      "metadata": {
        "id": "33cO9GFH_btM"
      },
      "execution_count": 68,
      "outputs": []
    },
    {
      "cell_type": "markdown",
      "source": [
        "###Evaluate Your Model Performance"
      ],
      "metadata": {
        "id": "6YGEXa-c_huM"
      }
    },
    {
      "cell_type": "code",
      "source": [
        "rf_train_score = rf.score(X_train_processed, y_train)\n",
        "rf_test_score = rf.score(X_test_processed, y_test)\n",
        "print(rf_train_score)\n",
        "print(rf_test_score)"
      ],
      "metadata": {
        "id": "_8nossvh_hgz",
        "outputId": "1ff173fb-b999-4cdd-a043-e81475da7714",
        "colab": {
          "base_uri": "https://localhost:8080/"
        }
      },
      "execution_count": 65,
      "outputs": [
        {
          "output_type": "stream",
          "name": "stdout",
          "text": [
            "0.9374706358700375\n",
            "0.5511969050031285\n"
          ]
        }
      ]
    },
    {
      "cell_type": "code",
      "source": [
        "train_score = rf.score(X_train_processed, y_train)\n",
        "test_score = rf.score(X_test_processed, y_test)\n",
        "print(f'Training R2 Score: {train_score}')\n",
        "print(f'Testing R2 Score: {test_score}')"
      ],
      "metadata": {
        "id": "j397GeQJAxwQ",
        "outputId": "2087a027-8d25-43d6-ccdb-6642c29a81bd",
        "colab": {
          "base_uri": "https://localhost:8080/"
        }
      },
      "execution_count": 66,
      "outputs": [
        {
          "output_type": "stream",
          "name": "stdout",
          "text": [
            "Training R2 Score: 0.9374706358700375\n",
            "Testing R2 Score: 0.5511969050031285\n"
          ]
        }
      ]
    },
    {
      "cell_type": "markdown",
      "source": [
        "this model shows that "
      ],
      "metadata": {
        "id": "xRgkqXs1_0JK"
      }
    },
    {
      "cell_type": "code",
      "source": [
        "train_RMSE = np.sqrt(np.mean(np.abs(train_preds - y_train)**2))\n",
        "test_RMSE = np.sqrt(np.mean(np.abs(test_preds - y_test)**2))\n",
        "print(f'Training RMSE: {train_RMSE}')\n",
        "print(f'Testing RMSE: {test_RMSE}')"
      ],
      "metadata": {
        "id": "geEdKNthA_Qs",
        "outputId": "fc88c7ab-4f21-48be-f685-ca59dba86607",
        "colab": {
          "base_uri": "https://localhost:8080/"
        }
      },
      "execution_count": 69,
      "outputs": [
        {
          "output_type": "stream",
          "name": "stdout",
          "text": [
            "Training RMSE: 430.17773463399493\n",
            "Testing RMSE: 1112.7612258673023\n"
          ]
        }
      ]
    },
    {
      "cell_type": "code",
      "source": [
        "rf_9 = RandomForestRegressor(max_depth = 9, random_state = 42)\n",
        "rf_9.fit(X_train_processed, y_train)\n",
        "rf_9_train_score = rf_9.score(X_train_processed, y_train)\n",
        "rf_9_test_score = rf_9.score(X_test_processed, y_test)\n",
        "print(rf_9_train_score)\n",
        "print(rf_9_test_score)"
      ],
      "metadata": {
        "id": "DA--415fBqR6",
        "outputId": "59cecadd-b448-43b9-d3cd-93655efefe5e",
        "colab": {
          "base_uri": "https://localhost:8080/"
        }
      },
      "execution_count": 72,
      "outputs": [
        {
          "output_type": "stream",
          "name": "stdout",
          "text": [
            "0.6921294414114377\n",
            "0.5934645175129227\n"
          ]
        }
      ]
    },
    {
      "cell_type": "code",
      "source": [
        "est_depths = [estimator.get_depth() for estimator in rf.estimators_]\n",
        "max(est_depths)"
      ],
      "metadata": {
        "id": "nkN4tF4pCC3z",
        "outputId": "21b0903c-19bd-43cd-b9a7-97f5f2d7070e",
        "colab": {
          "base_uri": "https://localhost:8080/"
        }
      },
      "execution_count": 73,
      "outputs": [
        {
          "output_type": "execute_result",
          "data": {
            "text/plain": [
              "42"
            ]
          },
          "metadata": {},
          "execution_count": 73
        }
      ]
    },
    {
      "cell_type": "code",
      "source": [
        "depths = range(1, max(est_depths))\n",
        "scores = pd.DataFrame(index=depths, columns=['Test Score'])\n",
        "for depth in depths:    \n",
        "   model = RandomForestRegressor(max_depth=depth)\n",
        "   model.fit(X_train_processed, y_train)\n",
        "   scores.loc[depth, 'Train Score'] = model.score(X_train_processed, y_train)\n",
        "   scores.loc[depth, 'Test Score'] = model.score(X_test_processed, y_test)\n",
        "   scores.head()"
      ],
      "metadata": {
        "id": "j6VqlY75CFh3"
      },
      "execution_count": 75,
      "outputs": []
    },
    {
      "cell_type": "code",
      "source": [
        "plt.plot(scores['Test Score'])"
      ],
      "metadata": {
        "id": "y5VLXU-ZDPmD",
        "outputId": "519fb056-6eb3-4a7c-e40e-34b902b0a6fc",
        "colab": {
          "base_uri": "https://localhost:8080/",
          "height": 283
        }
      },
      "execution_count": 76,
      "outputs": [
        {
          "output_type": "execute_result",
          "data": {
            "text/plain": [
              "[<matplotlib.lines.Line2D at 0x7f2ce2a23a00>]"
            ]
          },
          "metadata": {},
          "execution_count": 76
        },
        {
          "output_type": "display_data",
          "data": {
            "text/plain": [
              "<Figure size 432x288 with 1 Axes>"
            ],
            "image/png": "[encoded data removed]"
          },
          "metadata": {
            "needs_background": "light"
          }
        }
      ]
    },
    {
      "cell_type": "markdown",
      "source": [
        "\n",
        "###linear regression model is the superior model for this data set. It seems to give more accurate results in comparison to the Decision tree regression .\n",
        "\n",
        "###However I do not think that this model is correct and needs revision."
      ],
      "metadata": {
        "id": "Y1UbaeqWHuWa"
      }
    }
  ]
}